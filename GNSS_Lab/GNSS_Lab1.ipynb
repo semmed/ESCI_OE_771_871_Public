{
 "cells": [
  {
   "cell_type": "markdown",
   "metadata": {},
   "source": [
    " <style>\n",
    ".footer {\n",
    "  position: fixed;\n",
    "  left: 0;\n",
    "  bottom: 0;\n",
    "  width: 100%;\n",
    "  background-color: white;\n",
    "  color: grey;\n",
    "  text-align: left;\n",
    "  font-size: 8px;\n",
    "}\n",
    "</style>\n",
    "<style>\n",
    ".header {\n",
    "  position: fixed;\n",
    "  left: 0;\n",
    "  top: 0;\n",
    "  width: 100%;\n",
    "  background-color: white;\n",
    "  color: grey;\n",
    "  text-align: center;\n",
    "  font-size: 8px;\n",
    "}\n",
    "</style>\n",
    "<div class=\"header\">\n",
    "    <img align=\"left\" width=\"4%\" style=\"padding-right:10px;\" src=\"../Images/Ccom.png\">\n",
    "    <p>GNSS and Total Station Lab</p>\n",
    "</div>\n",
    "\n",
    "<img align=\"left\" width=\"30%\" style=\"padding-right:10px;\" src=\"../Images/Ccom.png\">\n",
    "\n",
    "# GNSS and Total Station Lab\n",
    "\n",
    "### v2.0 April 2020\n",
    "\n",
    "## Semme J. Dijkstra"
   ]
  },
  {
   "cell_type": "markdown",
   "metadata": {},
   "source": [
    "# Lab Overview\n",
    "\n",
    "For positioning there is a wide array of applications of GNSS receivers. In this set of labs we will explore a few of them. In the first lab we will establish a **control point**. The use of control points is that they may be used to transform the coordinates of a local survey to georeferenced coordinates. Traditional optical surveys are **tied** in to control i.e., by including at least two control points the survey is associated to a reference frame. Modern GNSS surveys only require at least one control station. Tying the survey data in to the reference frame is then achieved by concurrently acquiring data at the control station and at the survey site; the differences between the observations may then be used to get accurate WGS84 referenced results for the survey site. This positioning mode is known as Differential GPS (DGPS) if we use the GPS code to measure the pseudo-ranges, or Real Time Kinematic GPS if we observe the phase of the signals. The receiver at the control station is then known as **base station**\n",
    "\n",
    "It may be that this is not the reference frame in which the data products are supposed to be delivered, but if there is a known transformation between the reference frames the reference frame in which the control is established may be considered an intermediate reference frame. A common example of this is where we are to deliver our products with respect to some client defined geodetic datum e.g., NAD83 and use GPS to collect the required data. It is then necessary to do a transformation of the data from WGS84 to NAD83.\n",
    "\n",
    "In this lab we will do:\n",
    "\n",
    "- 1) A static survey of a point that will act as our control station\n",
    "- 2) Create a base station and confirm that we are getting differential corrections\n",
    "- 3) Do a hybrid survey in which we will establish control for a total station survey by:\n",
    "    - a) Using the base station to establish two position with a rover\n",
    "    - b) Observe the 2 rover locations using a robotic total station\n",
    "    - c) Survey a few points with the robotic total station establishing the geo-referenced locations of some features of interest\n",
    "    \n",
    "Each of the steps will be done in a different lab period\n"
   ]
  },
  {
   "cell_type": "markdown",
   "metadata": {},
   "source": [
    "# 1 Creation of a Reference Point\n",
    "\n",
    "To establish control for the remainder of the lab we will have to establish **survey control** that is we have to establish the coordinates of a point in the reference frame that we will be doing our survey in. Ideally we will also establish the coordinates of that point in the coordinate system that we will deliver our data products in.\n",
    "\n",
    "in our case we want to deliver data with reference to NAD83(2010), that is we want to do a survey whose coordinates are referenced to the epoch Jan 1, 2010 realization of the North American Datum of 1983. We want to have the ability to deliver these data either as curvilinear geodetic latitudes and longitudes, or as UTM coordinates.\n",
    "\n",
    "There are a number of ways to establish this control - the conceptually simplest of which is to set up a receiver over an already known control point and another over the newly established control point. If we then make GNSS observations for a long enough period of time to reduce the noise and deal with any possible drift in the data we can use the results to establish the new control point with WGS84 coordinates. There are, however, a number of drawbacks to this. Among other negatives it necessitates careful QA/QC of the data collected at the control point, it may be that there is no suitable control point close by, and it makes that you need to dedicate two GNSS receivers to the establishment of control.\n",
    "\n",
    "In this lab we will make use of the fact that in the USA, as in many other nations, there are Continuously Operating Reference Systems (CORS) that give access to the National Spatial Reference Systems (NSRS), which is the reference frame implementing the official federal government reference frames."
   ]
  },
  {
   "cell_type": "markdown",
   "metadata": {},
   "source": [
    "## 1.1 Continuously Operating Reference Systems (CORS)\n",
    "\n",
    "<img align=\"left\" width=\"30%\" style=\"padding-right:10px;\" src=\"./Images/cors.png\">\n",
    "\n",
    "In the USA there is a network of GNSS receivers continuously collecting carrier phase and code range measurements. Though the receivers are owned and operated the network is maintained by the National Geodetic Survey (NGS), an office of NOAA. The managing role of the NGS is then to tie the CORS into the NSRS.\n",
    "\n",
    "For a receiver to be accepted into the CORS network a strict set of standards and specifications must be met, allowing for high quality monitoring of the movements of the location at which the receivers are located. However, since we know exactly where these stations are located with respect to NAD83(2010) and how they have moved since then with respect to that datum we may use the data collected at these stations as differential correctors. Therefore it may be said that the NOAA CORS network supports high accuracy 3D positioning.\n",
    "\n",
    "\n",
    "Note that we at CCOM are considering the establishment of a submission for the installation of a control station at the Isles of Shoals and hopefully will install this in the Summer of 2021 during the summer hydro camp.\n",
    "\n"
   ]
  },
  {
   "cell_type": "markdown",
   "metadata": {},
   "source": [
    "## 1.1 Online Positioning User System (OPUS)\n",
    "\n",
    "<img align=\"left\" width=\"30%\" style=\"padding-right:10px;\" src=\"./Images/opus.png\">\n",
    "\n",
    "To take full advantage of CORS networks it is beneficial to provide access to the data *and* services through web portals. A specifically useful task that the the manager of a CORS network can fulfill is to provide a positioning service. That is to allow users to upload data files collected with roving GNSS receivers and return post processed kinematic positions making use of the CORS receiver data as base station data. Such a service can theoretically be provided for both dynamic as well as static roving receivers. Currently the NGS provides such positioning service for static receivers:the Online Positioning User Service (OPUS)\n",
    "\n",
    "OPUS therefore gives access to the National Spatial Reference System by taking GNSS observations and converting them to NAD83 Positions, as well as Geoid18 orthometric heights. Other data that are provided are current epoch International Terrestrial Reference Frame (ITRF) coordinates, UTM coordinates, State Plate Coordinates and a US National Grid designator. A class will be dedicated to the topic of NGS OPUS.\n",
    "\n",
    "A major benefit of using OPUS is that the accuracy of the data will be consistent with other NSRS users and a high level of confidence may be placed on the solutions. On a typical day well over a 1000 data sets are submitted to this service, therefore the NGS has gained much experience in dealing with a wide variety of GNSS data set qualities and issues.\n",
    "\n",
    "\n"
   ]
  },
  {
   "cell_type": "markdown",
   "metadata": {},
   "source": [
    "## 1.2 Steps to Create a Base Station\n",
    "\n",
    "In the 2nd step of this lab we will create an operating base station and verify its operation. In order to succesfully do so we will need to have a basic understanding of the steps required:\n",
    "\n",
    "- 1) Find an appropriate location\n",
    "    - a) Availability of power\n",
    "    - b) Availability of clear Sky view \n",
    "    - c) Access control of the location\n",
    "    - d) Ability to interact with the station\n",
    "    - e) Proximity to work site\n",
    "    - f) Away from sources of multi-path and RF noise\n",
    "- 2) Create reference marker\n",
    "    - a) Antennna itself if you leave receiver in place\n",
    "    - b) Monument if receiver will be in place intermittently\n",
    "- 3) Establish height of the antenna w.r.t. to reference marker\n",
    "    - 0 if reference is the phase center of the antenna\n",
    "    - some value to an identifiable point on the antenna if with respect to a monument\n",
    "        - often bottom of the antenna mount\n",
    "- 4) Acquire Data\n",
    "    - see 1.3 Data collection for OPUS\n",
    "- 5) Submit Data to OPUS\n",
    "    - Rapid static if less than 2 hours of data\n",
    "    - Static if time span is greater than 2 hours\n",
    "- 6) Check quality of solution\n",
    "- 7) If not still there install the base station\n",
    "- 8) Enter the coordinates found on the receiver\n",
    "- 9) Start data acquisition\n",
    "- 10) for RTK: Start broadcasting the results\n",
    "        \n",
    "\n",
    "\n",
    "\n"
   ]
  },
  {
   "cell_type": "markdown",
   "metadata": {},
   "source": [
    "## 1.3 Data Collection for OPUS\n",
    "\n",
    "<img align=\"left\" width=\"30%\" style=\"padding-right:30px;\" src=\"./Images/opus.png\">\n",
    "<br>\n"
   ]
  },
  {
   "cell_type": "markdown",
   "metadata": {},
   "source": [
    "- Fill out OPUS field log\n",
    "- Capture all receiver settings\n",
    "    - e.g. screen captures in PowerPoint presentation\n",
    "- Capture photos of:\n",
    "    - the control point\n",
    "    - antenna\n",
    "        - serial number\n",
    "        - type\n",
    "- Measure antenna height\n",
    "\n",
    "<img align=\"left\" width=\"30%\" style=\"padding-right:30px;\" src=\"./Images/antenna.png\">"
   ]
  },
  {
   "cell_type": "markdown",
   "metadata": {},
   "source": [
    "### To obtain Antenna Properties from OPUS \n",
    "\n",
    "- Go to OPUS home page (search OPUS NGS)\n",
    "- Go to about OPUS\n",
    "- Go to antenna calibartions\n",
    "- Select the manufacturer e.g. TRM for Trimble\n",
    "- Select the antenna e.g. sps986\n",
    "- calculate antenna reference surface height\n"
   ]
  },
  {
   "cell_type": "markdown",
   "metadata": {},
   "source": [
    "### OPUS Data File Requirements\n",
    "\n",
    "- Observations:\n",
    "    - Data File of dual-frequency GPS (L1/L2) full-wavelength carrier observables\n",
    "    - Static data only\n",
    "    - the antenna must remain unmoved throughout the observing session\n",
    "<br>\n",
    "- Data Span\n",
    "    - 15-minutes of data or more\n",
    "    - up to 48-hours\n",
    "        - not crossing UTC midnight more than once\n",
    "<br>\n",
    "- Files under 2 hours\n",
    "    - processed as rapid-static\n",
    "    - must include the P2 and either P1 or C1 observables\n",
    "<br>\n",
    "- Other GNSS Systems\n",
    "    - GLONASS or Galileo observables may be included\n",
    "    - Only the GPS data are used  \n",
    "- Elevation cut-off or mask angle:\n",
    "    - May select any\n",
    "    - Only satellites more than 10° above the horizon are used  \n",
    "- Recording (epoch) rates:\n",
    "    - 1, 2, 3, 5, 10, 15, or 30 seconds are accepted\n",
    "    - All are decimated to 30 seconds\n",
    "<br>\n",
    "- Data Format\n",
    "    - RINEX 2.x data format\n",
    "    - Many raw data formats (including Trimble)\n",
    "<br>\n",
    "- Data Compression:\n",
    "    - Compressed UNIX, gzip, pkzip, or Hatanaka formats are allowed\n",
    "    - Including multiple file archives (all must share the same antenna type & height)\n"
   ]
  },
  {
   "cell_type": "markdown",
   "metadata": {},
   "source": [
    "### OPUS Solution\n",
    "\n",
    "- Static: \n",
    "    - Coordinates averaged from three independent single baseline solutions.\n",
    "    - Computed from three nearby CORS\n",
    "- Rapid-Static: \n",
    "    - Uses more aggressive network solution for disambiguation\n",
    "    - may not work in some locations\n",
    "- For base station\n",
    "    - we normally prefer a 24 hour observation period and use a Static solution\n",
    "    - In this lab we will use a combination of two hour solutions"
   ]
  },
  {
   "cell_type": "markdown",
   "metadata": {},
   "source": [
    "### OPUS Rapid Static Precision\n",
    "\n",
    "<img align=\"left\" width=\"70%\" style=\"padding-right:30px;\" src=\"./Images/opus_rs.png\">"
   ]
  },
  {
   "cell_type": "markdown",
   "metadata": {},
   "source": [
    "### OPUS Accuracy\n",
    "\n",
    "<img align=\"left\" width=\"50%\" style=\"padding-right:30px;\" src=\"./Images/accuracy-duration.gif\">"
   ]
  },
  {
   "cell_type": "markdown",
   "metadata": {},
   "source": [
    "- Normally < 5cm uncertainty\n",
    "- Accuracy statement is difficult:\n",
    "    - Error propagation optimistic for GPS solutions\n",
    "        - Systematic errors not detected\n",
    "        - Misidentification of antenna\n",
    "        - Incorrect antenna height\n",
    "        - Local multipath\n",
    "        - Local atmospheric conditions\n",
    "- Improve by longer observation window\n",
    "- Improve by using a second observation window\n",
    "- Wait before submitting your data\n",
    "    - CORS data may not yet be available\n",
    "        - uploaded by 17:00 UTC the next day\n",
    "    - better ephemeris data\n",
    "    - rapid after 24 hours\n",
    "    - precise or final after two weeks"
   ]
  },
  {
   "cell_type": "markdown",
   "metadata": {},
   "source": [
    "### Evaluating OPUS Quality\n",
    "\n",
    "<img align=\"left\" width=\"50%\" style=\"padding-right:30px;\" src=\"./Images/opus_report.png\">"
   ]
  },
  {
   "cell_type": "markdown",
   "metadata": {},
   "source": [
    "- orbit used:\n",
    "    - precise\n",
    "    - rapid\n",
    "- Observations good if:\n",
    "    - 90% observations used\n",
    "    -  50% ambiguities fixed\n",
    "- Systematic errors:\n",
    "    - Double check\n",
    "        - correct antenna model\n",
    "        - correct antenna height\n",
    "- For static solutions:\n",
    "    - overall RMS < 3 cm\n",
    "    - peak to peak errors < 5 cm.\n",
    "- For Rapid Static solutions: \n",
    "    - No warning messages.\n",
    "    - Quality indicators that are suspiciously low \n",
    "    - Normalized RMS that is suspiciously high. \n",
    "    - Coordinate standard deviations that are suspiciously high.\n",
    "\n"
   ]
  },
  {
   "cell_type": "markdown",
   "metadata": {},
   "source": [
    "## When NOT  to Collect Data\n",
    "\n",
    "Rapid Static solutions may fail during periods of high Ionospheric disturbance and during the passage of strong weather fronts (strong local variations in the Troposphere)\n",
    "\n",
    "In general do not survey during geomagnetic storms. Geomagnetic storm alerts are issued by NOAA's Space Environment Center"
   ]
  },
  {
   "cell_type": "markdown",
   "metadata": {},
   "source": [
    "# Assignment:\n",
    "\n",
    "- Aid in Setting up a GNSS base station receiver (Trimble SPS986) over a target point\n",
    "- Measure antenna height from target to bottom and top of notch\n",
    "- Configure receiver using web access page\n",
    "    - Set antenna parameters\n",
    "    - base station location\n",
    "    - satellite cutoff elevation\n",
    "    - Survey mode) using Trimble’s GPS Configurator software\n",
    "- Start data logging\n",
    "    - 1s sample rate\n",
    "    - positions every 5 minutes\n",
    "- Obtain screen captures of all of the receiver’s settings and create a PowerPoint presentation\n",
    "- Transfer the collected data files\n",
    "    - as .T04 files\n",
    "    - as RINEX 2.11 files\n",
    "    - as BINEX (A new Binary version of RINEX)\n",
    "- Submit the data to OPUS\n",
    "    - for the first data file try both formats\n",
    "        - one of the files creates an error, what is the error?\n",
    "        - why do you think OPUS only accepts certain formats?\n",
    "    - Submit all subsequent files in the file format that worked\n",
    "- Also try to submit the data to NRCAN Precise Point Positioning tool\n",
    "    - find the web page \n",
    "    - create an account\n",
    "    - explore the options - do you understand these?\n",
    "    - make sure to use a common geodetic datum and epoch with OPUS\n",
    "    - submit at least one data file\n",
    "    - compare the results to the OPUS results\n",
    "- Create a ‘cook book’ for collecting OPUS data\n",
    "    - outline every step of how to set-up CCOM’s Trimble SPS986 receivers for OPUS data collection\n",
    "    - provide illustrations where necessary\n",
    "    - Make sure not to leave out any of the actions and describes all of the parts used\n",
    "    - Note that there is a very useful help feature on the web interface - you should at least indicate that it is there for help in your cook book\n",
    "    - do not forget to include the set-up stages\n",
    "        - create monument\n",
    "        - set up tripod\n",
    "        - attach tribrach\n",
    "        - center on monument\n",
    "        - attach antenna adapter\n",
    "        - attach smart antenna\n",
    "        - measure antenna height 1.400 m bottom of mount\n",
    "        - connect power supply to AC power\n",
    "        - connect receiver to power supply\n",
    "        - turn on power\n",
    "    - Also - do not change anything in the wifi or data logging menus\n",
    "        - the receiver is actively logging\n",
    "        - if you change the wifi settings your classmates lose access to the receiver"
   ]
  },
  {
   "cell_type": "code",
   "execution_count": null,
   "metadata": {},
   "outputs": [],
   "source": []
  }
 ],
 "metadata": {
  "kernelspec": {
   "display_name": "Python 3",
   "language": "python",
   "name": "python3"
  },
  "language_info": {
   "codemirror_mode": {
    "name": "ipython",
    "version": 3
   },
   "file_extension": ".py",
   "mimetype": "text/x-python",
   "name": "python",
   "nbconvert_exporter": "python",
   "pygments_lexer": "ipython3",
   "version": "3.6.7"
  }
 },
 "nbformat": 4,
 "nbformat_minor": 2
}
