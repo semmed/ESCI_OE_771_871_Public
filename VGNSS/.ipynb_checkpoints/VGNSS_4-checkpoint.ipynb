{
 "cells": [
  {
   "cell_type": "markdown",
   "metadata": {},
   "source": [
    " <style>\n",
    ".footer {\n",
    "  position: fixed;\n",
    "  left: 0;\n",
    "  bottom: 0;\n",
    "  width: 100%;\n",
    "  background-color: white;\n",
    "  color: grey;\n",
    "  text-align: left;\n",
    "  font-size: 8px;\n",
    "}\n",
    "</style>\n",
    "<style>\n",
    ".header {\n",
    "  position: fixed;\n",
    "  left: 0;\n",
    "  top: 0;\n",
    "  width: 100%;\n",
    "  background-color: white;\n",
    "  color: grey;\n",
    "  text-align: center;\n",
    "  font-size: 8px;\n",
    "}\n",
    "\n",
    "\n",
    "<img align=\"left\" width=\"30%\" style=\"padding-right:10px;\" src=\"../Images/Ccom.png\">\n",
    "\n",
    "___\n",
    "# Computational Problem Set - Being a VGNSS Receiver\n",
    "\n",
    "## Step 4 Create Observations\n",
    "\n",
    "## Semme J. Dijkstra\n",
    "\n",
    "\n",
    "## Objective \n",
    "\n",
    "The objective of this step is to perform the necessary coordinate transforms to be able to create observation models and a sky plot.\n",
    "\n",
    "## Implementation\n",
    "\n",
    "First we will calculate the Earth Centered Earth Fixed Cartesian WGS84 coordinates. This allows us to calculate the true ranges from our chosen receiver coordinates to the reported locations of the satellite vehicles using Pythagoras’ method. \n",
    "\n",
    "Then we will calculate the **true** ranges to the satellites (assuming the ephemeris are free of error).\n",
    "\n",
    "Subsequently we will calculate the satellite coordinates in both a Cartesian as well as a Polar reference frame.\n",
    "\n",
    "Finally we will determine which satellites are visible and create a sky plot of the visible satellites\n"
   ]
  },
  {
   "cell_type": "markdown",
   "metadata": {},
   "source": [
    "<img align=\"left\" width=\"30%\" style=\"padding-right:10px;\" src=\"../Images/Ccom.png\">\n",
    "\n",
    "___\n",
    "# Computational Problem Set - Being a VGNSS Receiver\n",
    "\n",
    "## Step 4 Create Observations\n",
    "\n",
    "## Semme J. Dijkstra\n",
    "\n",
    "<a href=\"https://teams.microsoft.com/l/channel/19%3aa57a4134d14d4209811498bd3c27b2f7%40thread.tacv2/VGNSS?groupId=940e4857-5e57-448f-a05f-080a11df87ca&tenantId=d6241893-512d-46dc-8d2b-be47e25f5666\"><img src=\"../Images/help.png\"  title=\"Ask questions on Teams\" align=\"right\" width=\"10%\" alt=\"Piazza.com\\\"></a><br><br> \n",
    "\n",
    "___\n",
    "## Objective \n",
    "\n",
    "The objective of this step is to perform the necessary coordinate transforms to be able to create observation models and a sky plot.\n",
    "\n",
    "## Implementation\n",
    "\n",
    "First we will calculate the Earth Centered Earth Fixed Cartesian WGS84 coordinates. This allows us to calculate the true ranges from our chosen receiver coordinates to the reported locations of the satellite vehicles using Pythagoras’ method. \n",
    "\n",
    "Then we will calculate the **true** ranges to the satellites (assuming the ephemeris are free of error).\n",
    "\n",
    "Subsequently we will calculate the satellite coordinates in both a Cartesian as well as a Polar reference frame centered on the receiver.\n",
    "\n",
    "Finally we will determine which satellites are visible and create a sky plot of the visible satellites"
   ]
  },
  {
   "cell_type": "code",
   "execution_count": null,
   "metadata": {},
   "outputs": [],
   "source": [
    "%load_ext autoreload\n",
    "%autoreload 2\n",
    "\n",
    "import sys\n",
    "import os\n",
    "import numpy as np\n",
    "\n",
    "from numpy import cos,pi,sin,pi,arccos, tan, arctan, arctan2, sqrt\n",
    "import matplotlib.pyplot as plt\n",
    "from datetime import datetime, timedelta\n",
    "from pathlib import Path\n",
    "from IPython.display import HTML\n",
    "vgnss_path=Path('../') # Get the path to the folder containing the mycode folder\n",
    "print(vgnss_path.resolve())\n",
    "sys.path.append(str(vgnss_path.resolve())) # add the folder to the list of paths \n",
    "data_path=Path('../mydata')\n",
    "\n",
    "from mycode.gnss import GNSS\n",
    "from mycode.sp3 import SP3\n",
    "\n",
    "\n",
    "verbose = True"
   ]
  },
  {
   "cell_type": "markdown",
   "metadata": {},
   "source": [
    "___\n",
    "# 4 Convert Receiver to Cartesian Coordinates\n",
    "\n",
    "GNSS use carrier frequencies in the L band i.e., they are microwave signals and thus GNSS are line of sight systems. Assuming they are functioning correctly and no extreme environmental events are occurring this means that satellites are visible when they are above the horizon. Since our ephemerides are given with respect to an ECEF reference frame with an ‘up’ axis aligned to the Earth’s rotation axis we cannot simply glean whether a satellite is visible from its coordinates. However, determining the visibility of a satellite is a simple geometric problem with the right choice of reference system, namely one aligned to the horizon plane at the location of the GNSS receiver, such systems are known as topocentric systems and, just like geocentric systems, come in polar and Cartesian form.\n",
    "\n",
    "___\n",
    "\n",
    "## 4.0 Execute the Code from Previous Steps\n",
    "\n",
    "### Objective:\n",
    "\n",
    "Get the current state that to represent the state as defined in steps 1. With this VGNSS project we are taking steps throughout the term that rely on previous steps.\n",
    "\n",
    "\n",
    "### Assignment:\n",
    "\n",
    "Update the code cell below to execute your step 1 containing the initialization code. Create the object `gnss` of class `GNSS` using the argument `data_path` (see step 3 for an example). Then add the ephemeris data for the `epoch` defined in step 1. \n",
    "\n",
    "### Deliverable:\n",
    "\n",
    "Execute step VGNSS_1 and create an `GNSS` object named `gnss`. Then add the ephemeris for the epoch `epoch` defined in step 1.\n"
   ]
  },
  {
   "cell_type": "code",
   "execution_count": null,
   "metadata": {},
   "outputs": [],
   "source": [
    "# Start by running your first step\n",
    "worked_example = True\n",
    "%run VGNSS_1.ipynb\n",
    "\n",
    "\n",
    "gnss = GNSS(data_path)\n",
    "gnss.add_next_epoch_ephemeris(epoch.year, epoch...., ...,\n",
    "                              ..., ..., ..., ...)\n",
    "\n"
   ]
  },
  {
   "cell_type": "markdown",
   "metadata": {},
   "source": [
    "___\n",
    "## 4.1 Calculate the ECEF Coordinates of the Receiver\n",
    "\n",
    "\n",
    "### Objective:\n",
    "\n",
    "Using the geodetic latitude $\\varphi$, longitude $\\lambda$ and ellipsoid height $h$, defined in Step 1, and using the WGS-84 ellipsoid (semi-major axis $a = 6378137$ m, semi-minor axis $b = 6356752.3142$ m), determine the Cartesian ECEF $XYZ$ coordinates for that location.  Use the Transformation ($\\varphi$,$\\lambda$,$h$) to ($XYZ$):\n",
    "\n",
    "$$\\begin{bmatrix}x \\\\ y \\\\ z \\end{bmatrix} = \n",
    "\\begin{bmatrix}(N+h)\\cos\\varphi\\cos\\lambda \\\\\n",
    "                (N+h)\\cos\\varphi\\sin\\lambda \\\\ \n",
    "                \\left(N\\dfrac{b^2}{a^2}+h\\right)\\sin\\varphi \\end{bmatrix}$$\n",
    "\n",
    "\n",
    "Where $N(\\varphi)$ is the prime vertical radius of curvature, given by:\n",
    "\n",
    "$$N(\\varphi)=\\dfrac{a}{\\sqrt{\\cos^2\\varphi + \\dfrac{b^2}{a^2}\\sin^2\\varphi}}$$\n",
    "\n",
    "or, alternatively\n",
    "\n",
    "$$N(\\varphi)=\\dfrac{a}{\\sqrt{1-e^2\\sin^2\\varphi}}$$\n",
    "\n",
    "where:\n",
    "\n",
    "$$ e^2=\\dfrac{a^2-b^2}{a^2}=1-\\dfrac{b^2}{a^2}$$\n",
    "\n",
    "$N(\\varphi)\\cos\\varphi$ is then the radius of curvature of the parallel through latitude $\\varphi$ \n",
    "\n",
    "$N(\\varphi)$ has its minimum value at the equator where $\\sin\\varphi = 0, \\cos\\varphi = 1 \\Rightarrow N = a = 6378137$.\n",
    "\n",
    "N has its maximum value at the poles where $\\sin\\varphi = ±1, \\cos\\varphi = 0 \\Rightarrow N = a^2 / b = 6399593.625$.  \n",
    "\n",
    "<img align=\"left\" width=\"100%\" style=\"padding-right:30px;\" src=\"../Images/N.png\">"
   ]
  },
  {
   "cell_type": "markdown",
   "metadata": {},
   "source": [
    "___\n",
    "### 4.1.0 WGS=84 Reference Ellipsoid Definition\n",
    "\n",
    "For the transformation from geodetic latitude and longitude to ECEF coordinates within WGS-84 we need to determine the prime radius of curvature $N$. As we have seen in 4.1 $N$ is a function of the geodetic latitude $\\varphi$ and the eccentricity $e$ of the reference ellipsoid. In the code cell below the semi-major and -minor axes of the WGS-84 reference ellipsoid are given; calculate the flattening $f$ as `f`, the squared eccentricity $e^2$ as `e2`\n"
   ]
  },
  {
   "cell_type": "code",
   "execution_count": null,
   "metadata": {},
   "outputs": [],
   "source": [
    "# 4.1.0 The parameters for WGS-84\n",
    "a = 6378137.0000\n",
    "b = 6356752.3142\n",
    "\n",
    "# Calculate f, e2 and N\n",
    "f = ...\n",
    "e2 = ...\n",
    "\n",
    "if verbose:\n",
    "    print('a:  %15.3f' % (a))\n",
    "    print('b:  %15.3f' % (b))\n",
    "    print('f:  %15.13f' % (f))\n",
    "    print('e2: %15.13f' % (e2))"
   ]
  },
  {
   "cell_type": "markdown",
   "metadata": {},
   "source": [
    "Worked Example:\n",
    "\n",
    "    a:      6378137.000\n",
    "    b:      6356752.314\n",
    "    f:  0.0033528106718\n",
    "    e2: 0.0066943800043\n"
   ]
  },
  {
   "cell_type": "markdown",
   "metadata": {},
   "source": [
    "___\n",
    "### 4.1.1 Prime radius of Curvature\n",
    "\n",
    "Now calculate the prime radius of curvature $N(\\varphi)$ for your $\\varphi$=`lat` as `N`\n"
   ]
  },
  {
   "cell_type": "code",
   "execution_count": null,
   "metadata": {},
   "outputs": [],
   "source": [
    "# 4.1.1 Prime radius of curvature\n",
    "N = a/sqrt(...)\n",
    "\n",
    "if verbose:\n",
    "    print('N:  %15.4f' % (N))\n",
    "    "
   ]
  },
  {
   "cell_type": "markdown",
   "metadata": {},
   "source": [
    "Worked Example:\n",
    "\n",
    "    N = \n",
    "    6383561.9968\n"
   ]
  },
  {
   "cell_type": "markdown",
   "metadata": {},
   "source": [
    "___\n",
    "### 4.1.2 ECEF Coordinates of the given location\n",
    "\n",
    "Use the transformation defined in 4.1 to calculate the ECEF coordinates of your location and store them in the numpy array `xyz`. This array is to be column-vector of dimensions 3x1. \n",
    "\n",
    "Remember that numpy arrays are by default 1 dimensional, the concepts of row and a column vector are associated to 2-dimensional arrays! \n"
   ]
  },
  {
   "cell_type": "code",
   "execution_count": null,
   "metadata": {},
   "outputs": [],
   "source": [
    "# 4.1.2 To create a 3x1 array use xyz = np.array([[1],[2],[3]])\n",
    "\n",
    "xyz = np.array(...)\n",
    "\n",
    "if verbose:\n",
    "    print('xyz = ')\n",
    "    for i in range(len(xyz)):\n",
    "        print('\\t%15.3f' % (xyz[i]))\n",
    "        \n",
    "    print('\\nxyz is a %d dimensional array with dimension lengths %s'%(xyz.ndim,xyz.shape))"
   ]
  },
  {
   "cell_type": "markdown",
   "metadata": {},
   "source": [
    "Worked Example:\n",
    "    \n",
    "    xyz = \n",
    "\t      36572.327\n",
    "\t   -5514234.862\n",
    "\t    3194349.181"
   ]
  },
  {
   "cell_type": "markdown",
   "metadata": {},
   "source": [
    "___\n",
    "## 4.2 Compute Baselines Spanning the Receiver and Satellite Locations\n",
    "\n",
    "Calculate the coordinate differences $\\Delta x, \\Delta y, \\Delta z$ between your receiver and each satellite.\n",
    "\n",
    "Compute the coordinate differences using the Cartesian coordinates for your location `xyz` and the Cartesian GNSS coordinates `eph_gps` and `eph_gln`.\n",
    "\n",
    "The columns of `eph_gps` and `eph_gln` hold the *PRN*$, x, y, z$  of each SV respectively, thus to get the ephemeris as a $3xn$ matrix with the x-coordinates on the $1^{st}$ row, the y-coordinates on the $2^{nd}$ row, and the z-coordinates on the $3^d$ row you would use `eph_gps[:,1:4].T`. To get the coordinate differences you may then simply subtract the coordinates `xyz`\n",
    "\n",
    "___\n",
    "### 4.2.0 Calculate the GPS Baselines\n",
    "\n",
    "First of lets note that `numpy` has two forms of assignment for arrays; the first form of assignment is where we simply state `array_a = array_b`. This results in `array_a` being identical in every sense to `array_b` with the exception of its name i.e., the array holds the same space in memory and if you alter `array_a` you are altering `array_b` as well! Often this is not the intention, we want to make a *copy* of `array_b` and assign it to `array_a` i.e. we want `array_a` to have the same contents as `array_b`, but be located in a different place in memory; if we then alter `array_a` `array_b` remains unaffected. \n",
    "\n",
    "In this case we will use the default assignment, which results in a variable pointing at the exact same array - we will do this to make the code more legible. For example the statement:\n",
    "\n",
    "    Dxyz_gps = gnss.eph_gps_sp3[-1][:, 1:4].T-xyz\n",
    "    \n",
    "May be hard to interpret due to the complex nature of the term on the right hand side of the `=` operator. Note that `gnss.eph_gps_sp3[-1]` is in this case the last element of the array `eph_gps_sp3` contained within the object `gnss` of class `GNSS`. All we care about is that it is the GPS ephemeris that we are interested in, so we may say\n",
    "\n",
    "    eph_gps=gnss.eph_gps_sp3[-1]\n",
    "    \n",
    "and then use `eph_gps` to represent this array, as shown above. This takes very little compute time as the only operations are to create the variable and 'point' it at the array of interest.\n",
    "\n",
    "    Dxyz_gps = eph_gps[:, 1:4].T-xyz\n",
    "\n",
    "\n",
    "Calculates the receiver to GPS satellite baselines as `Dxyz_gps` which is a $3xn$ matrix with as the elements on the first row the elements $\\Delta x$, the second $\\Delta y$, and the third $\\Delta z$. \n",
    "\n",
    "Also calculate the number of GPS satellites `n_gps`"
   ]
  },
  {
   "cell_type": "code",
   "execution_count": null,
   "metadata": {},
   "outputs": [],
   "source": [
    "# 4.2.0 Calculate the Receiver to GPS SV baselines\n",
    "\n",
    "eph_gps = ...\n",
    "Dxyz_gps = ...\n",
    "n_gps = ...\n",
    "\n",
    "if verbose:\n",
    "    print('n_gps: %d\\n' % n_gps)\n",
    "    print('Dxyz_gps = ')\n",
    "    for i in range(n_gps):\n",
    "        print('\\t%15.3f %15.3f %15.3f' %\n",
    "              (Dxyz_gps[0, i], Dxyz_gps[1, i], Dxyz_gps[2, i]))\n",
    "        \n",
    "print(xyz)"
   ]
  },
  {
   "cell_type": "markdown",
   "metadata": {},
   "source": [
    "Worked Example: \n",
    "    \n",
    "    n_gps: 29\n",
    "\n",
    "    Dxyz_gps = \n",
    "\t  -14810463.942    -9214095.559    13455967.472\n",
    "\t   13541201.761    26996353.844   -11445216.142\n",
    "\t  -20837451.276    -5980879.278   -15470790.135\n",
    "\t    4277463.860    31010341.499     2010886.176\n",
    "\t   19866345.462    -2252512.679    12298837.345\n",
    "\t   19536837.223    -3005783.142   -18858064.521\n",
    "\t    1056165.459    21661718.797    18312365.287\n",
    "\t   -1693033.087    28948943.100   -15370289.657\n",
    "\t   16587628.101     9753457.220    16646292.719\n",
    "\t   10672113.144    15868113.131   -25254163.661\n",
    "\t  -18260686.195     3057009.440    15996499.532\n",
    "\t  -17546989.320    13977292.747   -21333245.702\n",
    "\t   -1885582.145    -9653405.509    18588638.157\n",
    "\t    1220764.007   -18741048.436   -13693598.206\n",
    "\t   -7683192.651    -8259833.733   -24482868.704\n",
    "\t   17726871.047   -14000316.519    -2361359.148\n",
    "\t  -25475529.807    -1983255.367    -4599143.232\n",
    "\t  -20743125.374    15530137.349     9995455.690\n",
    "\t    9366881.387   -10434915.408   -22023974.206\n",
    "\t    9253116.170   -16307472.396     8916502.587\n",
    "\t  -25076162.220     7074338.432   -12229593.431\n",
    "\t   -6810914.778    24852585.384    13858646.355\n",
    "\t   -9357761.652   -19242133.976     -933274.172\n",
    "\t   25109342.477    14017330.327    -7784749.187\n",
    "\t   -8234024.193    21182403.553   -22326313.357\n",
    "\t  -10486381.208    27685817.508     6844088.972\n",
    "\t   22889767.807    15621546.364   -12058157.340\n",
    "\t   19140580.427   -11855475.027     2253855.407\n",
    "\t   -9084497.639    19470755.871    17197789.811"
   ]
  },
  {
   "cell_type": "markdown",
   "metadata": {},
   "source": [
    "___\n",
    "### 4.2.1 Calculate the GLONASS Baselines\n",
    "\n",
    "Calculate the receiver to GLONASS satellite baselines as `Dxyz_gln` which is a $3xn$ matrix with as the elements on the first row the elements $\\Delta x$, the second $\\Delta y$ and the third $\\Delta z$. Also calculate the number of GPS satellites `n_gps`"
   ]
  },
  {
   "cell_type": "code",
   "execution_count": null,
   "metadata": {},
   "outputs": [],
   "source": [
    "## 4.2.1 Calculate the Receiver to GLONASS SV baselines\n",
    "\n",
    "eph_gln= ...\n",
    "Dxyz_gln = ...\n",
    "n_gln = ...\n",
    "\n",
    "if verbose:\n",
    "    print('n_gln: %d\\n'%n_gln)\n",
    "    print('Dxyz_gln = ')\n",
    "    for i in range(n_gln):\n",
    "        print('\\t%15.3f %15.3f %15.3f'%(Dxyz_gln[0,i],Dxyz_gln[1,i],Dxyz_gln[2,i]))"
   ]
  },
  {
   "cell_type": "markdown",
   "metadata": {},
   "source": [
    "Worked Example: \n",
    "    \n",
    "    n_gln: 12\n",
    "\n",
    "    Dxyz_gln = \n",
    "\t   -2448746.691    -7984160.129    18284016.428\n",
    "\t  -14013514.736     7150982.135    17961015.926\n",
    "\t  -17384618.397    22405518.058     5024035.516\n",
    "\t  -11412690.470    26567751.210   -12134510.027\n",
    "\t   14801947.232     2407343.587   -23825582.469\n",
    "\t   10528886.218   -15641740.719     6337852.910\n",
    "\t  -20754319.335     9638717.726    11107883.884\n",
    "\t    3414179.268    16869382.924    19478742.850\n",
    "\t   20485927.787     1326296.973   -17730858.730\n",
    "\t    4450356.718    -4801088.714   -26089321.968\n",
    "\t  -15083121.192    -4935593.654   -20931970.548\n",
    "\t  -25005552.864      962220.444    -5776282.110"
   ]
  },
  {
   "cell_type": "markdown",
   "metadata": {},
   "source": [
    "___\n",
    "### 4.3 Compute the True Receiver to Satellite Ranges\n",
    "\n",
    "Calculate the true geometric range $\\rho$ to each GNSS satellite, under the conditions (time and location) of your virtual GNSS fix.\n",
    "\n",
    "Using the coordinate differences `Dxyz_gps` and `Dxyz_gln` from Step 4.2, compute distances `rho_gps` and `rho_gln` between your location and each GNSS satellite, at the instant of interest.  The equation involved is:\n",
    "\n",
    "$$\\rho = \\sqrt{(x_{sat}-x_{rx})^2+(y_{sat}-y_{rx})^2+(z_{sat}-z_{rx})^2}$$ \n",
    "\n",
    "or, equivalently:\n",
    "\n",
    "$$\\rho = \\sqrt{(\\Delta x)^2+(\\Delta y)^2+(\\Delta z)^2}$$ \n",
    "\n",
    "or equivalently:\n",
    "\n",
    "$$\\rho = \\sqrt{\\Delta xyz^T\\cdot\\Delta xyz}$$ \n",
    "\n",
    "Where:\n",
    "\n",
    "$\\rho$  = the **true** distance to be observed from a specific GNSS satellite\n",
    "\n",
    "$x_{sat}, y_{sat}, z_{sat}$ = the Cartesian coordinates (in m) for a specific GNSS satellite, at the time of the virtual GNSS fix (from Step 3)\n",
    "\n",
    "$x_{rx}, y_{rx}, z_{rx}$ = the Cartesian coordinates (in m) for a specific GNSS satellite, at the time of the virtual GNSS fix (from Step 4.1.2)\n",
    "\n",
    "$\\Delta xyz$ = The vector holding $\\Delta x, \\Delta y, \\Delta z$ in its columns e.g., `Dxyz_gps[:,i]` for satellite vehicle `i`\n",
    "\n"
   ]
  },
  {
   "cell_type": "markdown",
   "metadata": {},
   "source": [
    "___\n",
    "### 4.3.0 Compute the True Receiver to GPS Satellite Ranges\n",
    "\n",
    "Calculate the true geometric range $\\rho$ to each GPS satellite and assign it to the nx1 vector `rho_gps` using the equations in 4.3 and the variable `Dxyz_gps`. Note that it is helpful to know that to extract column `i` from a matrix `A` as a column vector `a` you should use:\n",
    "\n",
    "    a = A[:,i:i+1]\n",
    "    \n",
    "You should use this rather than the at first sight more logical `a = A[:,i]` as that expression would return a one-dimensional array, which would not allow for the correct use of the inner product.\n"
   ]
  },
  {
   "cell_type": "code",
   "execution_count": null,
   "metadata": {},
   "outputs": [],
   "source": [
    "## 4.3.0 Calculate the range from the receiver to each GPS satellite\n",
    "# First allocate memory by creating a n_gpsx1 2D array\n",
    "\n",
    "rho_gps=np.zeros((n_gps,1))\n",
    "\n",
    "for i in range(n_gps):\n",
    "    rho_gps[i] = sqrt(Dxyz_gps[:,i].T@...)\n",
    "    \n",
    "if verbose:\n",
    "    print('rho_gps = ')\n",
    "    for i in range(n_gps):\n",
    "        print('\\t%15.3f'%(rho_gps[i]))"
   ]
  },
  {
   "cell_type": "markdown",
   "metadata": {},
   "source": [
    "Worked Example:\n",
    "\n",
    "    rho_gps = \n",
    "\t   22029808.437\n",
    "\t   32297991.246\n",
    "\t   26632980.307\n",
    "\t   31368481.636\n",
    "\t   23473536.066\n",
    "\t   27319394.914\n",
    "\t   28384648.476\n",
    "\t   32820016.328\n",
    "\t   25443631.719\n",
    "\t   31677496.673\n",
    "\t   24468060.085\n",
    "\t   30957534.122\n",
    "\t   21030480.890\n",
    "\t   23242886.935\n",
    "\t   26956764.691\n",
    "\t   22711821.520\n",
    "\t   25963205.489\n",
    "\t   27773576.485\n",
    "\t   26109028.445\n",
    "\t   20761932.309\n",
    "\t   28782340.617\n",
    "\t   29259214.603\n",
    "\t   21417245.943\n",
    "\t   29792061.846\n",
    "\t   31858399.878\n",
    "\t   30386020.401\n",
    "\t   30222067.095\n",
    "\t   22627283.783\n",
    "\t   27520944.858"
   ]
  },
  {
   "cell_type": "markdown",
   "metadata": {},
   "source": [
    "___\n",
    "### 4.3.1 Compute the True Receiver to GLONASS Satellite Ranges\n",
    "\n",
    "Calculate the true geometric range $\\rho$ to each GLONASS satellite and assign it to the nx1 vector `rho_gln` using the equations in 4.3 and the variable `Dxyz_gln`.\n"
   ]
  },
  {
   "cell_type": "code",
   "execution_count": null,
   "metadata": {},
   "outputs": [],
   "source": [
    "## 4.3.1 Calculate the range from the receiver to each GPS satellite\n",
    "# First allocate memory by creating a n_gpsx1 2D array\n",
    "rho_gln=np.zeros((n_gln,1))\n",
    "\n",
    "for i in range(n_gln):\n",
    "    rho_gln[i] = sqrt(...)\n",
    "    \n",
    "if verbose:\n",
    "    print('rho_gln = ')\n",
    "    for i in range(n_gln):\n",
    "        print('\\t%15.3f'%(rho_gln[i]))"
   ]
  },
  {
   "cell_type": "markdown",
   "metadata": {},
   "source": [
    "Worked Example:\n",
    "    \n",
    "    rho_gln = \n",
    "\t   20100955.949\n",
    "\t   23877044.077\n",
    "\t   28800575.152\n",
    "\t   31358272.302\n",
    "\t   28152288.095\n",
    "\t   19891955.088\n",
    "\t   25436818.489\n",
    "\t   25993347.675\n",
    "\t   27125922.146\n",
    "\t   26898119.795\n",
    "\t   26268003.743\n",
    "\t   25682075.018"
   ]
  },
  {
   "cell_type": "markdown",
   "metadata": {},
   "source": [
    "___\n",
    "# 4.4 Satellite Visibility and Sky Plot\n",
    "\n",
    "GNSS use carrier frequencies in the L band i.e., they are microwave signals and thus GNSS are line of sight systems. Assuming they are functioning correctly (and no extreme environmental events are occurring) this means that satellites are visible when they are above the horizon. \n",
    "\n",
    "Our ephemerides are given with respect to an ECEF reference frame with an ‘up’ axis aligned to the Earth’s rotation axis, therefore we cannot simply glean whether a satellite is visible from the ECEF coordinates. However, determining the visibility of a satellite is a simple geometric problem with the right choice of reference system, namely one aligned to the horizon plane at the location of the GNSS receiver. Such systems are known as topocentric systems and, just like geocentric systems, come in polar and Cartesian form.\n",
    "\n",
    "\n",
    "___\n",
    "### 4.4.0 The Geocentric to Topocentric Cartesian Coordinate Transformation Matrix\n",
    "\n",
    "<img align=\"left\" width=\"50%\" style=\"padding-right:30px;\" src=\"../Images/dndedu.png\">\n",
    "\n",
    "Determine the transformation required to transform from *ECEF* Cartesian coordinates into Cartesian topocentric coordinates. In these coordinates the horizon plane is tangent to the ellipsoid at the location $P$ of the receiver and is spanned by two orthogonal vectors $E$ and $N$ pointing to the local East (parallel) and North (meridian) respectively, the Up axis $U$ is orthogonal to both these axes and points in the direction of the surface normal at $P$. Azimuth $\\alpha$ is then defined as the clockwise angle in the horizon plane from the North axis to a direction of interest. Elevation $\\theta$ is the angle from the horizon plane to a direction of interest and is positive from the horizon upwards.\n",
    "<br><br><br><br><br><br><br>\n",
    "**In the Images directory (../Images) you will find a video named XYZ_to_NEU.mpg in which David Wells explains the coordinate transformation**"
   ]
  },
  {
   "cell_type": "markdown",
   "metadata": {},
   "source": [
    "Given:\n",
    "\n",
    "$x_{sat}, y_{sat}, z_{sat}$ = the Cartesian coordinates (in m) for a specific GNSS satellite, at the time of the virtual GNSS fix (from Step 3)\n",
    "\n",
    "$x_{rx}, y_{rx}, z_{rx}$ = the Cartesian coordinates (in m) for the receiver, at the time of the virtual GNSS fix (from Step 4.1.2)\n",
    "\n",
    "$\\Delta x, \\Delta y, \\Delta z$ = the coordinate differences between receiver and each satellite from Step 4.2. \n",
    "\n",
    "\n",
    "$\\Delta x, \\Delta y, \\Delta z$ now represent the positions of the satellite vehicles with respect to the receiver location. By using them as coordinates we translated the coordinates from the center of the Earth to the observer. \n",
    "\n",
    "We have not yet aligned our coordinate axes to the local horizon. For this we have to do a reflection and a set of rotations. A video of Dr. David Wells describing this process may be found in the in the Images directory (../Images) you will find a video named [XYZ_to_NEU](../Images/XYZ_to_NEU8-23-02.mpg) in which Dave explains the coordinate transformation\n",
    "\n",
    "Remember that reflection matrices around the 1, 2, and 3 axes are defined as:\n",
    "\n",
    "$$P_1 = \\begin{pmatrix}-1&0&0 \\\\ 0&1&0 \\\\ 0&0&1 \\end{pmatrix} \n",
    "\\space\\space P_2 = \\begin{pmatrix}1&0&0 \\\\ 0&-1&0 \\\\ 0&0&1 \\end{pmatrix}\n",
    "\\space\\space P_3 = \\begin{pmatrix}1&0&0 \\\\ 0&1&0 \\\\ 0&0&-1 \\end{pmatrix}$$\n",
    "<br>\n",
    "Also, for terrestrial reference frames rotation matrices around the 1, 2, and 3 axes are defined as:\n",
    "\n",
    "$$R_1 = \\begin{pmatrix}1&0&0 \\\\ \n",
    "0&cos\\theta&sin\\theta \\\\ \n",
    "0&-sin\\theta&cos\\theta \\end{pmatrix} \n",
    "\\space\\space\n",
    "R_2 = \\begin{pmatrix}cos\\theta&0&-sin\\theta \\\\\n",
    "0&1&0 \\\\\n",
    "sin\\theta&0&cos\\theta \\end{pmatrix}\n",
    "\\space\\space\n",
    "R_3 = \\begin{pmatrix}cos\\theta&sin\\theta&0 \\\\\n",
    "-sin\\theta&cos\\theta&0 \\\\\n",
    "0&0&1 \\end{pmatrix}$$\n",
    "\n",
    "Calculate the matrix $Q$ that transforms from geocentric to Topocentric Cartesian coordinates at your location (i.e. $Q$ rotates and reflects the coordinate axes to become aligned with the horizontal plane at the receiver, in a north-east-up orientation)\n",
    "\n",
    "$$Q=P_2 R_2(\\varphi-1/2\\pi)R_3(\\lambda-\\pi)$$\n",
    "\n",
    "\n",
    "Finally We may then calculate the baselines to the satellites in the topocentric coordinate system as:\n",
    "\n",
    "$$\\Delta_{NEU} = \\begin{pmatrix}\\Delta N \\\\ \\Delta E \\\\ \\Delta U \\end{pmatrix} = \n",
    "Q\\begin{pmatrix}\\Delta x \\\\ \\Delta y \\\\ \\Delta z \\end{pmatrix}$$\n",
    "\n"
   ]
  },
  {
   "cell_type": "markdown",
   "metadata": {},
   "source": [
    "___\n",
    "#### 4.4.0.0 Calculate Reflection Matrix $P_2$\n",
    "\n",
    "\n",
    "\n",
    "Determine a 3D reflection matrix `P2` for the 2-axis"
   ]
  },
  {
   "cell_type": "code",
   "execution_count": null,
   "metadata": {},
   "outputs": [],
   "source": [
    "## 4.4.0.0 Calculate Reflection Matrix P2\n",
    "P2 = np.eye(3)\n",
    "P2[...]= ...\n",
    "\n",
    "if verbose:\n",
    "    print('P2:')\n",
    "    print(P2)"
   ]
  },
  {
   "cell_type": "markdown",
   "metadata": {},
   "source": [
    "Worked Example:\n",
    "    \n",
    "    P2:\n",
    "    [[ 1.  0.  0.]\n",
    "     [ 0. -1.  0.]\n",
    "     [ 0.  0.  1.]]"
   ]
  },
  {
   "cell_type": "markdown",
   "metadata": {},
   "source": [
    "___\n",
    "#### 4.4.0.1 Calculate Rotation Matrix $R_2$\n",
    "\n",
    "Create a rotation matrix `R2` that rotates by angle $\\varphi-1/2\\pi$ around the $2$-axis"
   ]
  },
  {
   "cell_type": "code",
   "execution_count": null,
   "metadata": {},
   "outputs": [],
   "source": [
    "## 4.4.0.1 Calculate rotation Matrix R2\n",
    "R2 = np.asarray([[cos(lat-pi/2), 0, ...],\\\n",
    "                 [...],\\\n",
    "                 [...]])\n",
    "\n",
    "if verbose:\n",
    "    print('R2:')\n",
    "    print(R2)"
   ]
  },
  {
   "cell_type": "markdown",
   "metadata": {},
   "source": [
    "Worked Example:\n",
    "    \n",
    "    R2:\n",
    "    [[ 0.50377398  0.          0.86383551]\n",
    "     [ 0.          1.          0.        ]\n",
    "     [-0.86383551  0.          0.50377398]]"
   ]
  },
  {
   "cell_type": "markdown",
   "metadata": {},
   "source": [
    "___\n",
    "#### 4.4.0.2 Calculate Rotation Matrix $R_3$\n",
    "\n",
    "Create a rotation matrix `R3` that rotates by angle $\\lambda-\\pi$ around the $3$-axis"
   ]
  },
  {
   "cell_type": "code",
   "execution_count": null,
   "metadata": {},
   "outputs": [],
   "source": [
    "#### 4.4.0.2 Calculate Reflection Matrix R3\n",
    "R3 = np.asarray([[cos(...),...,0],\\\n",
    "                 [...],\\\n",
    "                 [...]])\n",
    "\n",
    "if verbose:\n",
    "    print('R3:')\n",
    "    print(R3)"
   ]
  },
  {
   "cell_type": "markdown",
   "metadata": {},
   "source": [
    "Worked Example:\n",
    "    \n",
    "    R3:\n",
    "    [[-0.0066322   0.99997801  0.        ]\n",
    "     [-0.99997801 -0.0066322   0.        ]\n",
    "     [ 0.          0.          1.        ]]"
   ]
  },
  {
   "cell_type": "markdown",
   "metadata": {},
   "source": [
    "___\n",
    "#### 4.4.0.3 Calculate Transformation Matrix $Q$\n",
    "\n",
    "Create a rotation matrix `Q` that rotates by angle $\\lambda-\\pi$ around the $3$-axis, then rotates by angle $\\varphi-1/2\\pi$ around the $2$-axis, and finally reflects in the $2$-axis, making use of the results of steps `4.4.0.0`, `4.4.0.1`, and `4.4.0.2`."
   ]
  },
  {
   "cell_type": "code",
   "execution_count": null,
   "metadata": {},
   "outputs": [],
   "source": [
    "#### 4.4.0.3 Calculate Reflection Matrix Q\n",
    "\n",
    "Q = ...\n",
    "\n",
    "if verbose:\n",
    "    print('Q:')\n",
    "    print(Q)"
   ]
  },
  {
   "cell_type": "markdown",
   "metadata": {},
   "source": [
    "Worked Example:\n",
    "    \n",
    "    Q:\n",
    "    [[-0.00334113  0.5037629   0.86383551]\n",
    "     [ 0.99997801  0.0066322   0.        ]\n",
    "     [ 0.00572913 -0.86381651  0.50377398]]"
   ]
  },
  {
   "cell_type": "markdown",
   "metadata": {},
   "source": [
    "___\n",
    "#### 4.4.0.4 Calculate Cartesian Topocentric Coordinates for the GPS satellites\n",
    "\n",
    "Use the matrix `Q` to transform all the receiver-satellite baselines contained in `Dxyz_gps` to topocentric Cartesian (North, East and Up) coordinates contained in `n_gps` x 3 matrix `NEU_gps`."
   ]
  },
  {
   "cell_type": "code",
   "execution_count": null,
   "metadata": {},
   "outputs": [],
   "source": [
    "## 4.4.0.4 Calculate Topocentric Cartesian (North East Up) coordinates for GPS satellites \n",
    "# Allocate memory by using the shape of Dxyz_gps (Dxyz_gps.shape)\n",
    "NEU_gps = np.zeros((Dxyz_gps.shape))\n",
    "\n",
    "# Cycle through all GPS satellites\n",
    "for i in range(n_gps):\n",
    "    NEU_gps[:,i:i+1] = Q@Dxyz_gps[...]\n",
    "    \n",
    "if verbose:\n",
    "    print('NEU_gps = ')\n",
    "    for i in range(n_gps):\n",
    "        print('\\t%15.3f %15.3f %15.3f'%(NEU_gps[0,i],NEU_gps[1,i],NEU_gps[2,i]))"
   ]
  },
  {
   "cell_type": "markdown",
   "metadata": {},
   "source": [
    "Worked Example:\n",
    "\n",
    "    NEU_gps = \n",
    "\t    7031506.685   -14871247.959    14653202.983\n",
    "\t    3667734.434    13719949.232   -29008118.790\n",
    "\t  -16307542.231   -20876659.394    -2746779.739\n",
    "\t   17344642.791     4483036.650   -25749706.581\n",
    "\t    9423063.994    19850969.415     8255408.752\n",
    "\t  -17869742.850    19516472.581    -6791827.950\n",
    "\t   26727712.756     1199807.137    -9480406.258\n",
    "\t    1311658.167    -1501000.597   -32759426.458\n",
    "\t   19237667.111    16651950.188       55804.455\n",
    "\t  -13857333.506    10777118.969   -26368386.571\n",
    "\t   15419363.533   -18240009.877     5313307.091\n",
    "\t  -11328546.796   -17453903.168   -22921479.242\n",
    "\t   11200798.081    -1949564.016    17692440.447\n",
    "\t  -21274139.917     1096442.730     9297342.480\n",
    "\t  -25284498.476    -7737804.563    -5242869.441\n",
    "\t   -9151893.686    17633628.239    11005672.802\n",
    "\t   -4886876.604   -25488122.867     -749712.628\n",
    "\t   16527242.004   -20639670.148    -8498578.630\n",
    "\t  -24313110.083     9297468.906    -2027588.801\n",
    "\t    -543623.900     9144758.203    18631578.131\n",
    "\t   -6916785.050   -25028692.267   -12415545.875\n",
    "\t   24514157.355    -6645937.604   -14525468.726\n",
    "\t  -10468403.022    -9485173.574    16097901.858\n",
    "\t     252774.589    25201756.013   -15886300.635\n",
    "\t   -8587842.237    -8093357.109   -29592299.323\n",
    "\t   19894291.073   -10302532.628   -20527670.105\n",
    "\t   -2623186.693    22992869.645   -19437596.985\n",
    "\t   -4089339.313    19061531.551    11486047.636\n",
    "\t   24695058.339    -8955163.844    -8207407.635\n"
   ]
  },
  {
   "cell_type": "markdown",
   "metadata": {},
   "source": [
    "___\n",
    "#### 4.4.0.5 Calculate Cartesian Topocentric Coordinates for the GLONASS satellites\n",
    "\n",
    "Use the matrix `Q` to transform all the receiver-satellite baselines contained in `Dxyz_gln` to topocentric Cartesian (North, East and Up) coordinates contained in `n_gln` x 3 matrix `NEU_gps`."
   ]
  },
  {
   "cell_type": "code",
   "execution_count": null,
   "metadata": {},
   "outputs": [],
   "source": [
    "## 4.4.0.5 Calculate Topocentric Cartesian (North East Up) coordinates for \n",
    "# GLONASS satellites\n",
    "# Allocate memory by using the shape of Dxyz_gps (Dxyz_gps.shape)\n",
    "NEU_gln = np.zeros((Dxyz_gln.shape))\n",
    "\n",
    "# Cycle through all GLONASS satellites\n",
    "for i in range(n_gln):\n",
    "    NEU_gln[:,i:i+1] = Q@...\n",
    "    \n",
    "if verbose:\n",
    "    print('NEU_gln = ')\n",
    "    for i in range(n_gln):\n",
    "        print('\\t%15.3f %15.3f %15.3f'%(NEU_gln[0,i],NEU_gln[1,i],NEU_gln[2,i]))"
   ]
  },
  {
   "cell_type": "markdown",
   "metadata": {},
   "source": [
    "Worked Example:\n",
    "\n",
    "    NEU_gln = \n",
    "\t   11780440.512    -2501645.402    16093831.791\n",
    "\t   19164583.735   -13965779.771     2790870.742\n",
    "\t   15685093.240   -17235638.118   -16922876.759\n",
    "\t    2939758.022   -11236236.761   -29128097.225\n",
    "\t  -19418108.933    14817587.679   -13997409.253\n",
    "\t   -2440044.643    10424915.460    16764760.571\n",
    "\t   14520355.756   -20689936.951    -2849124.869\n",
    "\t   25313191.669     3525985.343    -4739607.389\n",
    "\t  -14716852.272    20494273.504    -9960655.851\n",
    "\t  -24970362.209     4418417.047    -8970365.124\n",
    "\t  -20517753.628   -15115523.321    -6367947.975\n",
    "\t   -4421479.787   -24998621.268    -3884382.628"
   ]
  },
  {
   "cell_type": "markdown",
   "metadata": {},
   "source": [
    "___\n",
    "### 4.5.0 Transformation of Topocentric Cartesian to Topocentric Polar Coordinates\n",
    "\n",
    "<img align=\"left\" width=\"50%\" style=\"padding-right:30px;\" src=\"../Images/polar.PNG\">\n",
    "\n",
    "Transform Cartesian topocentric coordinates into Topocentric polar coordinates (distance, azimuth, elevation).\n",
    "<br>\n",
    "Using the transformation from spherical to Cartesian coordinates:\n",
    "\n",
    "$$\\Delta_{NEU} = \\begin{pmatrix}\\Delta N \\\\ \\Delta E \\\\ \\Delta U \\end{pmatrix} = \n",
    "\\begin{pmatrix}\\rho\\cos\\theta\\cos\\alpha \\\\ \\rho\\cos\\theta\\sin\\alpha \\\\ \\rho\\sin\\theta \\end{pmatrix}$$\n",
    "<br><br>\n",
    "To obtain the azimuth $\\alpha$ divide $\\Delta E$ by $\\Delta N$ (Note the difference with regular right handed Cartesian angles).\n",
    "<br><br>\n",
    "$$ \\dfrac{\\Delta E}{\\Delta N}=\\dfrac{\\rho\\cos\\theta\\sin\\alpha}{\\rho\\cos\\theta\\cos\\alpha}=\\tan\\alpha\\Rightarrow$$\n",
    "\n",
    "$$\\alpha = \\arctan\\left(\\dfrac{\\Delta E}{\\Delta N}\\right)$$\n",
    "<br><br>\n",
    "To obtain elevation $\\theta$, calculate the projection of the satellite-to-receiver range onto the horizontal plane, that is:\n",
    "\n",
    "$$p=\\sqrt{(\\Delta N)^2+(\\Delta E)^2} = \\rho\\cos\\theta$$\n",
    "<br><br>\n",
    "Then divide $\\Delta U$ by the horizontal range $p$\n",
    "\n",
    "$$\\dfrac{\\Delta U}{p}=\\dfrac{\\rho\\sin\\theta}{\\rho\\cos\\theta}=\\tan\\theta\\Rightarrow$$\n",
    "\n",
    "$$\\theta = \\arctan\\left(\\dfrac{\\Delta U}{p}\\right)$$\n",
    "\n",
    "Both the solutions for azimuth $\\alpha$ and elevation $\\theta$ involve the use of the arctangent function, $\\arctan$.  But this is misleading, since the range of azimuth values $\\alpha$ is $[0°,360°\\rangle$ or, equivalently, $[-180°,180°\\rangle$, and the range of elevation values $\\theta$ is $[-90°,90°]$.  To accommodate this, two different arctangent functions are provided by the `numpy` module:  a two-quadrant function (in this case for elevations $\\theta$) `arctan()` that has a single argument and, a four-quadrant function `arctan2()` (in this case for azimuths $\\theta$) that has two arguments.  \n",
    "\n",
    "In this step we will create the n_gps x 4 matrix `p_az_elev_gps`, which will hold the PRN in the first column, the horizontal range $p$ in the 2nd column, the azimuth $\\alpha$ in 3d column and, finally the elevation of the GPS satellites in the 4th column. This matrix then represents the identity of the satellites and their locations in a polar topocentric coordinate system."
   ]
  },
  {
   "cell_type": "code",
   "execution_count": null,
   "metadata": {},
   "outputs": [],
   "source": [
    "## 4.5.0 Determination of the Azimuth from the Receiver to the GPS satellites\n",
    "# Allocate memory \n",
    "p_az_elev_gps = np.zeros((n_gps,4))\n",
    "\n",
    "# Cycle through all GPS satellites\n",
    "for i in range(n_gps):\n",
    "    p_az_elev_gps[i,0] = eph_gps[i,0]\n",
    "    p_az_elev_gps[i,1] = sqrt(NEU_gps[1,i]**2+...)\n",
    "    p_az_elev_gps[i,2] = arctan2(NEU_gps[1,i],...)\n",
    "    p_az_elev_gps[i,3] = arctan(.../sqrt(NEU_gps[1,i]**2+NEU_gps[...]**2))\n",
    "    \n",
    "if verbose:\n",
    "    print('p_az_elev_gps = ')\n",
    "    for i in range(n_gps):\n",
    "        print('\\t%3d %15.3f %15.3f %15.3f'%(p_az_elev_gps[i,0],p_az_elev_gps[i,1],p_az_elev_gps[i,2],p_az_elev_gps[i,3]))"
   ]
  },
  {
   "cell_type": "markdown",
   "metadata": {},
   "source": [
    "Worked Example:\n",
    "\n",
    "    p_az_elev_gps = \n",
    "\t  1    16449805.534          -1.129           0.728\n",
    "\t  2    14201735.204           1.310          -1.116\n",
    "\t  3    26490957.723          -2.234          -0.103\n",
    "\t  4    17914637.902           0.253          -0.963\n",
    "\t  5    21973964.635           1.128           0.359\n",
    "\t  6    26461678.170           2.312          -0.251\n",
    "\t  7    26754628.876           0.045          -0.341\n",
    "\t  8     1993351.435          -0.853          -1.510\n",
    "\t  9    25443570.522           0.713           0.002\n",
    "\t 10    17554827.973           2.481          -0.983\n",
    "\t 11    23884194.189          -0.869           0.219\n",
    "\t 13    20808044.317          -2.147          -0.834\n",
    "\t 14    11369198.631          -0.172           1.000\n",
    "\t 15    21302375.827           3.090           0.412\n",
    "\t 16    26442002.243          -2.845          -0.196\n",
    "\t 18    19867108.570           2.050           0.506\n",
    "\t 19    25952378.894          -1.760          -0.029\n",
    "\t 20    26441363.657          -0.896          -0.311\n",
    "\t 21    26030179.599           2.776          -0.078\n",
    "\t 22     9160902.223           1.630           1.114\n",
    "\t 23    25966851.023          -1.840          -0.446\n",
    "\t 24    25399062.925          -0.265          -0.519\n",
    "\t 25    14126428.408          -2.405           0.851\n",
    "\t 26    25203023.651           1.561          -0.562\n",
    "\t 27    11800570.477          -2.386          -1.191\n",
    "\t 28    22403682.641          -0.478          -0.742\n",
    "\t 29    23142021.583           1.684          -0.699\n",
    "\t 30    19495247.654           1.782           0.532\n",
    "\t 31    26268628.929          -0.348          -0.303"
   ]
  },
  {
   "cell_type": "markdown",
   "metadata": {},
   "source": [
    "___\n",
    "### 4.5.1 Transformation of Topocentric Cartesian to Topocentric Polar Coordinates\n",
    "\n",
    "We will now do the same thing for the GLONASS satellites. Create the n_gln x 4 matrix `p_az_elev_gln`, which will hold the PRN in the first column, the horizontal range $p$ in the 2nd column, the azimuth $\\alpha$ in 3d column and, finally the elevation $\\theta$ of the GPS satellites in the 4th column. "
   ]
  },
  {
   "cell_type": "code",
   "execution_count": null,
   "metadata": {},
   "outputs": [],
   "source": [
    "## 4.5.1 Determination of the Azimuth from the Receiver to the GLONASS satellites\n",
    "# Allocate memory \n",
    "p_az_elev_gln = np.zeros((n_gln,4))\n",
    "\n",
    "# Cycle through all GLONASS satellites\n",
    "for i in range(n_gln):\n",
    "    p_az_elev_gln[i,0] = eph_gln[i,0]\n",
    "    p_az_elev_gln[i,1] = sqrt(NEU_gln...)\n",
    "    p_az_elev_gln[i,2] = arctan2(...)\n",
    "    p_az_elev_gln[i,3] = arctan(...))\n",
    "    \n",
    "if verbose:\n",
    "    print('p_az_elev_gln = ')\n",
    "    for i in range(n_gln):\n",
    "        print('\\t%3d %15.3f %15.3f %15.3f'%(p_az_elev_gln[i,0],p_az_elev_gln[i,1],p_az_elev_gln[i,2],p_az_elev_gln[i,3]))"
   ]
  },
  {
   "cell_type": "markdown",
   "metadata": {},
   "source": [
    "Worked Example:\n",
    "\n",
    "    rho_az_elev_gln = \n",
    "\t  1    12043131.170          -0.209           0.928\n",
    "\t  2    23713377.540          -0.630           0.117\n",
    "\t  3    23304277.962          -0.832          -0.628\n",
    "\t  4    11614439.021          -1.315          -1.191\n",
    "\t  6    24425885.023           2.490          -0.520\n",
    "\t  8    10706665.224           1.801           1.002\n",
    "\t 17    25276752.607          -0.959          -0.112\n",
    "\t 18    25557586.841           0.138          -0.183\n",
    "\t 21    25230952.960           2.194          -0.376\n",
    "\t 22    25358260.943           2.966          -0.340\n",
    "\t 23    25484451.323          -2.507          -0.245\n",
    "\t 24    25386621.454          -1.746          -0.152"
   ]
  },
  {
   "cell_type": "markdown",
   "metadata": {},
   "source": [
    "___\n",
    "## 4.6 Determine which Satellites are Visible\n",
    "\n",
    "Determine which satellites visible from the virtual GNSS fix location and epoch.\n",
    "\n",
    "At the time and place of the virtual GNSS fix, those satellites which have a positive elevation angle $\\theta$ are above the horizon, and those which have negative elevation angle are below the horizon.\n",
    "\n",
    "Note:  $\\Delta U$is also positive for visible satellites (they have a positive vertical or “up” coordinate), and ΔU is negative for satellites which are below the horizon.\n",
    "Select only visible satellites for computing the fix - that is create subsets of the matrices based on the Boolean condition of visibility being `True`\n",
    "\n",
    "In Python we may use a Boolean vector of the same length as a dimension to select slices along that dimension. For example the Boolean vector idx = [True,False,True,False] may be used to select the 2nd and 4th row of matrix A as follows:\n"
   ]
  },
  {
   "cell_type": "code",
   "execution_count": null,
   "metadata": {},
   "outputs": [],
   "source": [
    "# Example showing the logic of indexing using Boolean vectors\n",
    "idx = np.array([True,False,True,False])\n",
    "A = np.eye(4)\n",
    "print('Entire matrix A:')\n",
    "print(A)\n",
    "print('Subset of matrix A:')\n",
    "print(A[idx,:])"
   ]
  },
  {
   "cell_type": "markdown",
   "metadata": {},
   "source": [
    "___\n",
    "## 4.6.0 Determine which GPS Satellites are Visible\n",
    "\n",
    "Create the Boolean array `visible_gps` in which each element represents the visibility of the corresponding satellite in the array `rho_az_elev_gps`. Also show just the data for the visible satellites in the matrix `rho_az_elev_gps"
   ]
  },
  {
   "cell_type": "code",
   "execution_count": null,
   "metadata": {},
   "outputs": [],
   "source": [
    "## 4.6.0 Determine which GPS Satellites are Visible\n",
    "\n",
    "visible_gps = p_az_elev_gps[:,3] ...\n",
    "\n",
    "\n",
    "print('GPS       PRN           Range         Azimuth       Elevation ')\n",
    "print('______________________________________________________________ ')\n",
    "for prn in p_az_elev_gps[visible_gps,:]:\n",
    "    print('\\t%5d %15.3f %15.3f %15.3f'%(prn[0],prn[1],prn[2]*180/pi,prn[3]*180/pi))\n",
    "print('')\n",
    "print('')\n",
    "print('')"
   ]
  },
  {
   "cell_type": "markdown",
   "metadata": {},
   "source": [
    "Worked Example:\n",
    "\n",
    "    GPS       PRN           Range         Azimuth       Elevation \n",
    "    ______________________________________________________________ \n",
    "                1    16449805.534         -64.694          41.694\n",
    "                5    21973964.635          64.607          20.591\n",
    "                9    25443570.522          40.879           0.126\n",
    "               11    23884194.189         -49.790          12.542\n",
    "               14    11369198.631          -9.874          57.275\n",
    "               15    21302375.827         177.050          23.579\n",
    "               18    19867108.570         117.429          28.985\n",
    "               22     9160902.223          93.402          63.817\n",
    "               25    14126428.408        -137.821          48.732\n",
    "               30    19495247.654         102.108          30.505\n",
    "\n",
    "\n",
    "\n"
   ]
  },
  {
   "cell_type": "markdown",
   "metadata": {},
   "source": [
    "___\n",
    "## 4.6.1 Determine which GLONASS Satellites are Visible\n",
    "\n",
    "Create the Boolean array `visible_gln` in which each element represents the visibility of the corresponding satellite in the array `rho_az_elev_gln`. Also show just the data for the visible satellites in the matrix `rho_az_elev_gln"
   ]
  },
  {
   "cell_type": "code",
   "execution_count": null,
   "metadata": {},
   "outputs": [],
   "source": [
    "## 4.6.1 Determine which GLONASS Satellites are Visible\n",
    "\n",
    "visible_gln = p_az_elev_gln[:,3] ...\n",
    "\n",
    "print('GLONASS   PRN           Range         Azimuth       Elevation ')\n",
    "print('______________________________________________________________ ')\n",
    "for prn in p_az_elev_gln[visible_gln,:]:\n",
    "    print('\\t%5d %15.3f %15.3f %15.3f'%(prn[0],prn[1],prn[2]*180/pi,prn[3]*180/pi))"
   ]
  },
  {
   "cell_type": "markdown",
   "metadata": {},
   "source": [
    "Worked Example:\n",
    "\n",
    "    GLONASS   PRN           Range         Azimuth       Elevation \n",
    "    ______________________________________________________________ \n",
    "\t            1    12043131.170         -11.989          53.192\n",
    "\t            2    23713377.540         -36.082           6.712\n",
    "\t            8    10706665.224         103.173          57.436\n"
   ]
  },
  {
   "cell_type": "markdown",
   "metadata": {},
   "source": [
    "___\n",
    "## 4.7 Sky Plot\n",
    "\n",
    "create a sky plot with all visible satellites. GPS satellites are indicated by red PRNs, while GLONASS satellites are marked by blue PRNs. In this case the distance from the origin represents the zenith angle, which is the 1/2 pi complement to the elevation."
   ]
  },
  {
   "cell_type": "markdown",
   "metadata": {},
   "source": [
    "___\n",
    "## 4.7.0 Create Sky Plot lay out\n",
    "\n",
    "In this step you will create a circle of radius $1/2 \\pi$ representing the horizon, and a black dot to represent zenith at the center.\n",
    " \n",
    "Remember that for a circle:\n",
    "\n",
    "$$r^2=x^2+y^2$$\n",
    "\n",
    "Or, equivalently, in parametric form:\n",
    "\n",
    "$$ x=r\\cos⁡\\alpha\\space\\space\\space\\space y=r\\sin⁡\\alpha$$\n",
    "\n",
    "where $\\alpha$ is the parameter and $\\alpha\\in[0,2\\pi\\rangle$\n",
    "\n",
    "Calculate the `x` and `y` coordinates using the parametric equation for a circle, increasing the parameter from $0$ to $2\\pi$ by increments of $0.01\\pi$.\n",
    "\n",
    "Note that the parametric form of equations is often convenient for plotting when there can be more than 1 outcome for an input value – in the case of the horizon circle here there are 2 $y$ values associated with all $x\\in\\langle -1/2\\pi,1/2\\pi\\rangle$\n",
    "\n",
    "The default settings for `matplotlib` make that the `plot` function tries to make optimal use of the available plot space by scaling the axes. Make sure that the circle will appear as a circle and not an oval, due to the unequal scaling (see help for the axis command).\n",
    " \n",
    "For our purpose we do not want to see the Cartesian axes, as they would complicate the interpretation of the figure (see help for the axis command)\n",
    "\n",
    "Now go ahead and plot the horizon circle as a solid black line of width 2 (see the help page for the plot command)\n",
    "\n",
    "Deliverables:<br>\n",
    "\n",
    " `t` vector of parameter t starting at 0 and increasing by 0.01$\\pi$ steps to 2$\\pi$<br>\n",
    " `x` vector of x-coordinates for the plot of the horizon $-1/2\\pi\\leq x\\leq 1/2\\pi$<br>\n",
    " `y` vector of y-coordinates for the plot of the horizon $-1/2\\pi\\leq y\\leq 1/2\\pi$<br>"
   ]
  },
  {
   "cell_type": "code",
   "execution_count": null,
   "metadata": {},
   "outputs": [],
   "source": [
    "## 4.7.0 Create the arrays t, x, and z; x and z being the locus of points forrming a circle with radius 1/2*pi\n",
    "t = np.arange(...)\n",
    "x = 1/2*pi*cos(...)\n",
    "y = ...\n",
    "\n",
    "# 4.7.0 Plot the Circle \n",
    "plt.figure(figsize=(10, 10))\n",
    "plt.plot(x,y,'k',linewidth=2)\n",
    "plt.axis('equal')\n",
    "plt.axis('off')\n",
    "plt.plot(0,0,'.k',linewidth=3)"
   ]
  },
  {
   "cell_type": "markdown",
   "metadata": {},
   "source": [
    "___\n",
    "### 4.7.1 Add the sky plot titles\n",
    " \n",
    "Set the title of the plot to *Sky Plot*, with font size 24, on the second line the epoch as a date string with font size 14, the latitude and the longitude in DMS, For the implementation of this step please consult the help page for the 'title' command. I have started this for you, but commented out a few of the lines that you will need to complete\n"
   ]
  },
  {
   "cell_type": "code",
   "execution_count": null,
   "metadata": {},
   "outputs": [],
   "source": [
    "## 4.7.0 Create the arrays t, x, and z\n",
    "\n",
    "# Copy the code from 4.7.0 here\n",
    "\n",
    "# 4.7.1 Add the Suptitle 'Sky Plot' in font size 24\n",
    "plt.suptitle('...', fontsize = ...)\n",
    "str_pos = r'$\\varphi$: '\n",
    "pos = lat*180/pi\n",
    "str_pos += str(int(pos))\n",
    "pos = (pos-int(pos))*60\n",
    "str_pos += '$^{\\circ}$'+str(int(pos))\n",
    "pos = (pos-int(pos))*60\n",
    "str_pos += '\\'%.2f'%pos+'\\\"'\n",
    "str_pos += '  $\\lambda$: '\n",
    "# pos = lon ...\n",
    "# str_pos += str(...)\n",
    "# pos = (...)*60\n",
    "# str_pos += ... +str(...)\n",
    "# pos = (pos-int(pos))*60\n",
    "# str_pos += '\\'%.2f'%pos+'\\\"'\n",
    "plt.title('For pos: ' + str_pos + ' WGS-84 at epoch: ' + epoch.strftime('%c') + ' UTC')\n",
    "plt.show()"
   ]
  },
  {
   "cell_type": "markdown",
   "metadata": {},
   "source": [
    "___\n",
    "### 4.7.2 Plot The Satellite Locations\n",
    "\n",
    "\n",
    "$$ \\begin{pmatrix}x_{plot} \\\\ y_{plot} \\end{pmatrix} = \n",
    "\\begin{pmatrix} (\\pi/2-\\theta)\\sin\\alpha \\\\ (\\pi/2-\\theta)\\cos\\alpha\\end{pmatrix}$$\n",
    "<br><br>\n",
    "\n",
    "Transform the satellite polar topocentric coordinates to coordinates projected within the circle created in 3.5.1.  The mapping function i.e., transform, is to plot the satellites relative to the receiver in a polar plot with the direction defined by the azimuth and the range by the zenith angle, which is the 1/2 pi complement of the elevation. The location will be indicated by a colored dot coded by satellite type; GPS satellites will be colored red and GLONASS satellites blue. A label using the same color-coding and with as its contents the PRN number will be plotted for each satellite.\n",
    "\n",
    "Note that you will be using the function 'plot' rather than the more obvious 'polar'. The reason for this is that it is much easier to attain the desired behavior using the plot command. However, it does require that we transform our polar topocentric coordinates to a set of 2D Cartesian\n",
    "Coordinates (not the same as the ones that you determined in 3.1.1!)\n",
    " \n",
    "The transformation is a simple decomposition of the [az elev] polar vector in x and y components.\n",
    "\n",
    "Plot all the satellites using a red dot for GPS and a blue dot for GLONASS\n",
    " \n",
    "Now label all the satellites using the ‘text’ function and the same color-coding.\n",
    "\n"
   ]
  },
  {
   "cell_type": "code",
   "execution_count": null,
   "metadata": {},
   "outputs": [],
   "source": [
    "# Copy the code from 4.7.1 here (including that of 4.7.0)\n",
    "\n",
    "# 4.7.2 Transform the polar coordinates to plot coordiniates for the GPS satellites\n",
    "x_plot = (pi/2-p_az_elev_gps[visible_gps,3:4])*sin(p_az_elev_gps[...,...])\n",
    "y_plot = (pi/2-p_az_elev_gps[...])*cos(...)\n",
    "\n",
    "# Plot the visible GPS satellites, make sure that we may add a legend\n",
    "plt.plot(x_plot,y_plot,'r.',label=u'GPS')\n",
    "# Label the visible GPS satellites with their PRN Codes\n",
    "\n",
    "for i, prn in enumerate(p_az_elev_gps[visible_gps,:]):\n",
    "    plt.text(x_plot[i]+.01+.01,y_plot[i]+.01,str(int(prn[0])), fontsize = 12)\n",
    "    \n",
    "# Transform the polar coordinates to plot coordiniates for the GLONASS satellites\n",
    "x_plot = ...\n",
    "y_plot = ...\n",
    "\n",
    "# Plot the visible GLONASS satellites, make sure that we may add a legend\n",
    "plt.plot(...,...,...,label=u...)\n",
    "# Label the visible GLONASS satellites with their PRN Codes\n",
    "for i, prn in ...:\n",
    "    plt.text(...,...,str(...), ...)\n",
    "\n",
    "    \n",
    "plt.legend(ncol=2, loc='upper right')    \n",
    "plt.show()"
   ]
  }
 ],
 "metadata": {
  "kernelspec": {
   "display_name": "Python 3 (ipykernel)",
   "language": "python",
   "name": "python3"
  },
  "language_info": {
   "codemirror_mode": {
    "name": "ipython",
    "version": 3
   },
   "file_extension": ".py",
   "mimetype": "text/x-python",
   "name": "python",
   "nbconvert_exporter": "python",
   "pygments_lexer": "ipython3",
   "version": "3.9.7"
  }
 },
 "nbformat": 4,
 "nbformat_minor": 2
}
