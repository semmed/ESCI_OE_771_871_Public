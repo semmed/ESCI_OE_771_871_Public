{
 "cells": [
  {
   "cell_type": "markdown",
   "metadata": {},
   "source": [
    " <style>\n",
    ".footer {\n",
    "  position: fixed;\n",
    "  left: 0;\n",
    "  bottom: 0;\n",
    "  width: 100%;\n",
    "  background-color: white;\n",
    "  color: grey;\n",
    "  text-align: left;\n",
    "  font-size: 8px;\n",
    "}\n",
    "</style>\n",
    "<style>\n",
    ".header {\n",
    "  position: fixed;\n",
    "  left: 0;\n",
    "  top: 0;\n",
    "  width: 100%;\n",
    "  background-color: white;\n",
    "  color: grey;\n",
    "  text-align: center;\n",
    "  font-size: 8px;\n",
    "}\n",
    "\n",
    "\n",
    "<img align=\"left\" width=\"30%\" style=\"padding-right:10px;\" src=\"../Images/Ccom.png\">\n",
    "\n",
    "___\n",
    "# Computational Problem Set - Being a VGNSS Receiver\n",
    "\n",
    "## Semme J. Dijkstra & David Wells 2019\n",
    "\n"
   ]
  },
  {
   "cell_type": "markdown",
   "metadata": {},
   "source": [
    "___\n",
    "## Administrative\n",
    "\n",
    "Instructor: Semme J. Dijkstra\n",
    "\n",
    "*For issues or suggestions related to this notebook, write to: semmed@ccom.unh.edu* or **preferably** *: use the Teams channel for the assignment*\n"
   ]
  },
  {
   "cell_type": "markdown",
   "metadata": {},
   "source": [
    "___\n",
    "## Description\n",
    "\n",
    "### Student Learning Outcomes\n",
    "\n",
    "- The first learning objective is to deepen your understanding of geodesy, coordinate systems, coordinate transformations, and GNSS positioning.  This objective is achieved by working through what a GNSS receiver actually does (in the simplest possible case).  The basic premise of this practical exercise is that each student becomes a “virtual GNSS receiver” performing (over many weeks of hard work) all the functions, which any GNSS receiver does (in milliseconds).\n",
    "- The second learning objective is to provide a relevant vehicle to be used to develop your programming skills.  This practical exercise requires that you program all the mathematical steps required to compute a single-epoch, single-receiver GNSS fix position.  \n",
    "- The third learning objective is to develop your debugging skills.  Learning a programming language can be frustrating.  Small errors in coding can be hard to detect.  This practical exercise provides three facilities to assist the beginning programmer to develop skill in detecting and correcting such small coding errors.  The first facility is a worked example that can be used to check your results against known answers.  The second facility is expert advice  from fellow students through Piazza, and  the third by email assistance from the instructor (more about this below).\n"
   ]
  },
  {
   "cell_type": "markdown",
   "metadata": {},
   "source": [
    "___\n",
    "## Learning Methods\n",
    "\n",
    "This practical exercise is to be done individually by each student.\n",
    "\n",
    "That does not mean you cannot work together, developing the algorithms and code required to do the work.  In fact, I encourage such a group approach.  However, each student will prepare their own code, compute their own results, and should satisfy himself or herself that they *comprehend* what they have and done and are able to individually *apply* what they have done for each step in the lab.\n",
    "\n",
    "You are provided with notebooks – in these templates precise instructions are included for the deliverable variables. You will submit your completed code based on the notebook. I will then evaluate your results by running my own code and evaluating the differences with your variables. This means that some of the variables are considered the deliverables and that they need to be formatted exactly as indicated in the notebook.\n",
    "\n",
    "Even though you are provided a notebook it is still important to remember to set up your computations so they can easily be repeated by simply changing input values. You should NOT create dummy variables that contain the same information as the deliverables – this is confusing and leads to messy code that is very hard to evaluate and debug."
   ]
  },
  {
   "cell_type": "markdown",
   "metadata": {},
   "source": [
    "___\n",
    "## Expert Advice\n",
    "\n",
    "The best way to get expert advice is to visit the class office hours on Zoom. If you have trouble you will be asked to share your screen, thereby greatly facilitating the diagnoses of any problems.\n",
    "\n",
    "Alternatively you may send a message in Teams. Note, that it is much more difficult to diagnose problems this way - there is a high likelihood that you will be asked to come office hours. The attempted service standard is to reply to you within 24 hours, except on holidays and Weekends.\n"
   ]
  },
  {
   "cell_type": "markdown",
   "metadata": {},
   "source": [
    "___\n",
    "## SCHEDULE\n",
    "\n",
    "I have set milestones for completion of the steps – you will have until noon on the Wednesday before the next lab period to submit your results.\n",
    "\n",
    "You will be asked to resubmit your results for a step until the step is completed to satisfaction. I will send you an e-mail informing you that either I want changes made or, that you have completed the step. Even if you have not yet completed a previous step you are still asked to submit the current step on time."
   ]
  },
  {
   "cell_type": "markdown",
   "metadata": {},
   "source": [
    "___\n",
    "## EVALUATION CRITERIA AND SUBMISSION\n",
    "\n",
    "Unless otherwise indicated the deliverables are the variables provided in the template. Note that typically the accommodating text explains what the variable value should represent. For example you may be instructed that the variable `name` should represent your first name, if its value then is *'Semme'* it is highly likely to be incorrect...\n",
    "\n",
    "All assignments are automatically pulled from the ePOM server at the due time - make sure that You have tested your submission before then. \n",
    "\n",
    "Note that capitalization of variable names matters! `your_Name` is not the same variable as `YourName`!\n",
    "\n",
    "It has proven significantly more difficult to provide timely feedback and grades when you add extra variables or use variables other than their intended use.  The first time you will receive a warning the request to please not do this in the future, subdequenty you will lose points.\n",
    "\n",
    "It is better to have deliverables missing or be incorrect than to have the Notebook generating errors. In the evaluation your Notebook is executed - hunting down execution errors is not the graders job. Leave yourself enough time to visit office hours to receive help with the coding if needed. \n",
    "\n",
    "The deliverables are the variables indicated in the assignment holding a correct value.\n",
    "\n",
    "Grading:\n",
    "\n",
    "    Variable missing: -2\n",
    "    Added variable: -1\n",
    "    Variable value incorrect: -1\n",
    "    essay answers stored in variables incorrect: [-5:-1]\n",
    "    Missing data files: -5\n",
    "    Incorrect data files: -2\n",
    "    Misnamed data files: -2\n",
    "    Changing the value of variable worked_example outside this step: -2\n",
    "    Any of the code blocks failing to execute i.e., generating errors: -5 per code cell!\n",
    "   \n",
    "\n",
    "You may receive feedback asking you to resubmit the current step; due date for resubmission is the same date as the due date for the next step. If the submission is not updated by then the same points will be **subtracted again** i.e., if you lost two point for missing variable `a` on the first submission you will lose *another* two points if variable `a` is still not present the next due date. "
   ]
  },
  {
   "cell_type": "markdown",
   "metadata": {},
   "source": [
    "## Checking your Submission\n",
    "\n",
    "If you want to check your outcomes to a worked example I provide you should set the variable `worked_example` in the code cell below to `True`.\n",
    "\n"
   ]
  },
  {
   "cell_type": "code",
   "execution_count": 1,
   "metadata": {},
   "outputs": [],
   "source": [
    "worked_example = False"
   ]
  },
  {
   "cell_type": "markdown",
   "metadata": {},
   "source": [
    "___\n",
    "# Feedback\n",
    "\n",
    "After your assignment has been review you will receive an email that looks something like this:\n",
    "\n",
    "___\n",
    "\n",
    "    Subject: Please Resubmit VGNSS step 1    grade: 99/100\n",
    "\n",
    "    Hi student_name,\t\t99/100\n",
    "\n",
    "    Here your evaluation of step 1, pulled on 2022_05_18_22_00\n",
    "\n",
    "\n",
    "    # 1.0 Location Selection\n",
    "      You had Lat and Lon instead of lat and lon: -1\n",
    "\n",
    "    # 1.1 Time and Date Selection\n",
    "      good\n",
    "\n",
    "    # 1.2 Determination of satellite ephemeris\n",
    "      good\n",
    "\n",
    "    # 1.3 GNSS Measurement Uncertainty\n",
    "      good\n",
    "\n",
    "    # 1.3.0 Clock Bias\n",
    "      good\n",
    "\n",
    "    # 1.3.1 Random Uncertainties\n",
    "    Variable `mu` is not a deliverable: You should comment out this block of code\n",
    "    Variable `n` is not a deliverable: -1\n",
    "    Variable `sigma` is not a deliverable: -1\n",
    "\n",
    "    # 1.3.2 Systematic Uncertainties\n",
    "      good\n",
    "\n",
    "    # 1.3.3 Accidental Uncertainties\n",
    "      good\n",
    "\n",
    "    # 1.3.4 Receiver Bias\n",
    "      good\n",
    "      \n",
    "    Cheers, Semme\n",
    "___\n",
    "\n",
    "Note the importance of the subject line - it may be something like:\n",
    "\n",
    "    Done VGNSS step 1    grade: 99/100\n",
    "    \n",
    "*This means that you are done with step 1 and should not alter it unless asked to do so.*\n",
    "\n",
    "or it may be something like:\n",
    "\n",
    "    Please resubmit VGNSS step 1    grade: 99/100\n",
    "    \n",
    "*This means that you are not done with step 1 and should alter it by the due date of the next assignment.*\n",
    "    \n",
    "Note: If the subject line instructs to resubmit you should address the issues identified in the email before moving on to the next step. Due to the nature of the assignments each subsequent step may depend on the previous steps; thus, if you do not correct the issues identified the resulting problems will cascade through, potentially leading to some very confusing problems later on."
   ]
  }
 ],
 "metadata": {
  "kernelspec": {
   "display_name": "Python 3 (ipykernel)",
   "language": "python",
   "name": "python3"
  },
  "language_info": {
   "codemirror_mode": {
    "name": "ipython",
    "version": 3
   },
   "file_extension": ".py",
   "mimetype": "text/x-python",
   "name": "python",
   "nbconvert_exporter": "python",
   "pygments_lexer": "ipython3",
   "version": "3.9.7"
  }
 },
 "nbformat": 4,
 "nbformat_minor": 2
}
