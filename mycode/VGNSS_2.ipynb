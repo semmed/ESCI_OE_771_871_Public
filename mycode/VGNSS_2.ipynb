{
 "cells": [
  {
   "cell_type": "markdown",
   "metadata": {},
   "source": [
    " <style>\n",
    ".footer {\n",
    "  position: fixed;\n",
    "  left: 0;\n",
    "  bottom: 0;\n",
    "  width: 100%;\n",
    "  background-color: white;\n",
    "  color: grey;\n",
    "  text-align: left;\n",
    "  font-size: 8px;\n",
    "}\n",
    "</style>\n",
    "<style>\n",
    ".header {\n",
    "  position: fixed;\n",
    "  left: 0;\n",
    "  top: 0;\n",
    "  width: 100%;\n",
    "  background-color: white;\n",
    "  color: grey;\n",
    "  text-align: center;\n",
    "  font-size: 8px;\n",
    "}\n",
    "</style>\n",
    "<div class=\"header\">\n",
    "    <img align=\"left\" width=\"4%\" style=\"padding-right:10px;\" src=\"../Images/Ccom.png\">\n",
    "    <p>Being a VGNSS Receiver</p>\n",
    "</div>\n",
    "\n",
    "<img align=\"left\" width=\"30%\" style=\"padding-right:10px;\" src=\"../Images/Ccom.png\">\n",
    "\n",
    "___\n",
    "# Computational Problem Set - Being a VGNSS Receiver\n",
    "\n",
    "## Step 1 Set-Up\n",
    "\n",
    "## Semme J. Dijkstra & David Wells 2019\n",
    "\n",
    "<div class=\"footer\">\n",
    "    <br><p>VGNSS Step 2: Semme J. Dijkstra February 5 20, 2020\n",
    "    </p>\n",
    "</div> \n"
   ]
  },
  {
   "cell_type": "code",
   "execution_count": 1,
   "metadata": {},
   "outputs": [
    {
     "name": "stdout",
     "output_type": "stream",
     "text": [
      "/home/jupyter-semmed/ESCI_OE_771_871\n"
     ]
    }
   ],
   "source": [
    "%load_ext autoreload\n",
    "%autoreload 2\n",
    "\n",
    "import sys\n",
    "import os\n",
    "import numpy as np\n",
    "\n",
    "from numpy import cos,pi,sin,pi,arccos, tan, arctan\n",
    "from datetime import datetime, timedelta\n",
    "from pathlib import Path\n",
    "\n",
    "vgnss_path=Path('../') # Get the path to the folder containing the mycode folder\n",
    "\n",
    "print(vgnss_path.resolve())\n",
    "sys.path.append(str(vgnss_path.resolve())) # add the folder to the list of paths \n",
    "\n",
    "from mycode.gnss import GNSS\n",
    "from mycode.sp3 import SP3\n",
    "# from mycode.lsq import LSQ\n",
    "# from mycode.ephemeris import Ephemeris"
   ]
  },
  {
   "cell_type": "markdown",
   "metadata": {},
   "source": [
    "Convert code to .py file"
   ]
  },
  {
   "cell_type": "markdown",
   "metadata": {},
   "source": [
    "<div class=\"header\">\n",
    "    <img align=\"left\" width=\"4%\" style=\"padding-right:10px;\" src=\"../Images/Ccom.png\">\n",
    "    <p>0 Introduction to Geodesy and Positioning for Ocean Mapping</p>\n",
    "</div>\n",
    "\n",
    "___\n",
    "## 2.0 Ephemeris Data Retrieval\n",
    "\n",
    "### Objective:\n",
    "\n",
    "Get familiar with SP3 ephemeris files\n",
    "\n",
    "### Assignment:\n",
    "\n",
    "Convert the GNSS Time epoch chosen in step 1 into a format consistent with GPS week and time and retrieve the associated GPS and GLONASS ephemeris data\n",
    "\n",
    "### Deliverable:\n",
    "\n",
    "Provide the answers requested below and specify the date and time (in GNSS Time) for your virtual GNSS fix.\n",
    "\n",
    "\n",
    "<div class=\"footer\">\n",
    "    <br><p>VGNSS Step 0: Semme J. Dijkstra December 20, 2019</p>\n",
    "</div> "
   ]
  },
  {
   "cell_type": "code",
   "execution_count": 22,
   "metadata": {},
   "outputs": [
    {
     "name": "stdout",
     "output_type": "stream",
     "text": [
      "Reading SP3 file: /home/jupyter-semmed/ESCI_OE_771_871/mydata/igs13381.sp3\n",
      "Reading SP3 file: /home/jupyter-semmed/ESCI_OE_771_871/mydata/igl13381.sp3\n",
      "Reading SP3 file: /home/jupyter-semmed/ESCI_OE_771_871/mydata/igs20684.sp3\n",
      "Reading SP3 file: /home/jupyter-semmed/ESCI_OE_771_871/mydata/igl20684.sp3\n"
     ]
    }
   ],
   "source": [
    "# VGNSS 2.0\n",
    "\n",
    "# print(datetime(2005,8,29,15,0,0)-datetime(1970,1,1,0,0,0))\n",
    "\n",
    "data_path = os.path.join(vgnss_path, \"mydata\")\n",
    "data_path = os.path.abspath(data_path)\n",
    "gnss = GNSS( data_path)\n",
    "gnss.add_next_epoch_ephemeris(2005,8,29,15,0,0,342380)\n",
    "if gnss.gnss_weeks[-1] < 979:\n",
    "    error( 'epoch predates GLONASS, please pick a later date')\n",
    "gnss.add_next_epoch_ephemeris(2019,8,29,15,0,1,120002)\n",
    "\n"
   ]
  },
  {
   "cell_type": "markdown",
   "metadata": {},
   "source": [
    "Consider the code given be. All the code required to run this is provided to you. To test your ability to read code and to understand the way GPS time works lets do some analysis of the code fragment above.\n",
    "\n",
    "#### 2.0.0 In what class method is the datetime converted to a GNSS week and day number. \n",
    "\n",
    "Fill in the answer below as follows:\n",
    "\n",
    "    q_2_0_0 = 'class.method'\n",
    "    \n",
    "Make sure that the answer is *not* commented out"
   ]
  },
  {
   "cell_type": "code",
   "execution_count": null,
   "metadata": {},
   "outputs": [],
   "source": [
    "q_0_0 = 'class.method'"
   ]
  },
  {
   "cell_type": "markdown",
   "metadata": {},
   "source": [
    "#### 2.0.1 What does the GNSS week number represent?\n",
    "\n",
    "Fill in the answer below as follows:\n",
    "\n",
    "    q_2_0_1 = 'The GPS Week is the number ...'\n",
    "    \n",
    "Make sure that the answer is *not* commented out"
   ]
  },
  {
   "cell_type": "code",
   "execution_count": null,
   "metadata": {},
   "outputs": [],
   "source": [
    " q_2_1 = 'The GPS Week is the number ...'"
   ]
  },
  {
   "cell_type": "markdown",
   "metadata": {},
   "source": [
    "#### 2.0.2 What does the GNSS time represent?\n",
    "\n",
    "Fill in the answer below as follows:\n",
    "\n",
    "    q_2_0_2 = 'The GPS Time is the number ...'\n",
    "    \n",
    "Make sure that the answer is *not* commented out"
   ]
  },
  {
   "cell_type": "code",
   "execution_count": null,
   "metadata": {},
   "outputs": [],
   "source": [
    "q_2_0_2 = 'The GPS Time is the number ...'"
   ]
  },
  {
   "cell_type": "markdown",
   "metadata": {},
   "source": [
    "#### 2.1.0 The method gnss.add_next_epoch_ephemeris() adds ephemeris data, what is the domain name of the data server?\n",
    "\n",
    "Fill in the answer below as follows:\n",
    "\n",
    "    q_2_1_0 = 'The domain name of the ephemeris data server is  ...'\n",
    "    \n",
    "Make sure that the answer is *not* commented out"
   ]
  },
  {
   "cell_type": "code",
   "execution_count": null,
   "metadata": {},
   "outputs": [],
   "source": [
    "q_2_1_0 = 'The domain name of the ephemeris data server is  ...'"
   ]
  },
  {
   "cell_type": "markdown",
   "metadata": {},
   "source": [
    "#### 2.1.1 For the SP3 file format what does SP3 stand for?\n",
    "\n",
    "Use your internet searching skills to find the answer\n",
    "\n",
    "Fill in the answer below as follows:\n",
    "\n",
    "    q_2_1_1_0 = 'SP3 stands for  '\n",
    "    q_2_1_1_1 = 'I found the answer at '\n",
    "    \n",
    "Make sure that the answer is *not* commented out"
   ]
  },
  {
   "cell_type": "code",
   "execution_count": null,
   "metadata": {},
   "outputs": [],
   "source": [
    "q_2_1_1 = 'SP3 stands for  ...'\n",
    "q_2_1_1_1 = 'I found the answer at '"
   ]
  },
  {
   "cell_type": "markdown",
   "metadata": {},
   "source": [
    "#### 2.1.2 SP3 files use a preferred naming convention; what is the convention?\n",
    "\n",
    "The server from question 2.1.0 uses this convention, thus we can easily predict the name of the data file that we need. Note that this is one of the benefits of following convention.\n",
    "\n",
    "Fill in the answer below as follows:\n",
    "\n",
    "    q_2_1_2_0 = 'SP3 file names are formed by ...'\n",
    "    q_2_1_2_1 = 'I found the answer at '\n",
    "    \n",
    "Make sure that the answer is *not* commented out"
   ]
  },
  {
   "cell_type": "code",
   "execution_count": null,
   "metadata": {},
   "outputs": [],
   "source": [
    "q_2_1_2_0 = 'SP3 file names are formed by ...'\n",
    "q_2_1_2_1 = 'I found the answer at '"
   ]
  },
  {
   "cell_type": "markdown",
   "metadata": {},
   "source": [
    "#### 2.1.3 There are several SP3 format versions, what are they?\n",
    "\n",
    "Fill in the answer below as follows:\n",
    "\n",
    "    q_2_1_3_0 = 'The following SP3 versions exist ...'\n",
    "    q_2_1_3_1 = 'I found the answer at '\n",
    "    \n",
    "Make sure that the answer is *not* commented out"
   ]
  },
  {
   "cell_type": "code",
   "execution_count": null,
   "metadata": {},
   "outputs": [],
   "source": [
    "q_2_1_3_0 = 'The following SP3 versions exist ...'\n",
    "q_2_1_3_1 = 'I found the answer at '"
   ]
  },
  {
   "cell_type": "markdown",
   "metadata": {},
   "source": [
    "#### 2.1.4 There are several SP3 format versions, what are they?\n",
    "\n",
    "Where in the code provided is the file version checked:\n",
    "\n",
    "    q_2_1_4 = 'class.method'\n",
    "\n",
    "Make sure that the answer is *not* commented out"
   ]
  },
  {
   "cell_type": "code",
   "execution_count": null,
   "metadata": {},
   "outputs": [],
   "source": [
    "q_2_1_4 = 'class.method'"
   ]
  },
  {
   "cell_type": "markdown",
   "metadata": {},
   "source": [
    "#### 2.1.5 Find a description of the various SP3 file formats as text files, download them and place them in the Documentation folder of this course on the ePOM server\n",
    "\n",
    "**Note that you will probably not be able to find the description of one of the formats as it is essentially the same as its predecessor.** Reference to this format is made in the format file description of its successor."
   ]
  },
  {
   "cell_type": "markdown",
   "metadata": {},
   "source": [
    "#### 2.2.0 What are the file types allowed by the most current SP3 format version?\n",
    "\n",
    "To provide this answer you will have to read the format description document\n",
    "\n",
    "    q_2_2_0 = 'SP3 allowed file types are:'\n",
    "\n",
    "Make sure that the answer is *not* commented out"
   ]
  },
  {
   "cell_type": "code",
   "execution_count": null,
   "metadata": {},
   "outputs": [],
   "source": [
    "q_2_2_0 = 'SP3 allowed file types are:'"
   ]
  },
  {
   "cell_type": "markdown",
   "metadata": {},
   "source": [
    "#### 2.2.1 Does the code provided read all of these file types?\n",
    "\n",
    "Where in the code provided is the file version checked:\n",
    "\n",
    "    q_2_2_1_0 = 'The code provided does/does not omit the following file types:'\n",
    "    q_2_2_1_1 = 'The code provided checks the file types in the following locations (for each SP3 version): class.method'\n",
    "\n",
    "Make sure that the answer is *not* commented out"
   ]
  },
  {
   "cell_type": "code",
   "execution_count": null,
   "metadata": {},
   "outputs": [],
   "source": [
    "q_2_2_1_0 = 'The code provided does/does not omit the following file types:'\n",
    "q_2_2_1_1 = 'The code provided checks the file types in the following locations (for each SP3 version): class.method'"
   ]
  },
  {
   "cell_type": "markdown",
   "metadata": {},
   "source": [
    "#### 2.2.2 The indexing in the various read_sp3_x methods is at first sight different from the file description, why?\n",
    "\n",
    "    q_2_2_2 = 'The code provided appears to have different indexing because ...'\n",
    "\n",
    "Make sure that the answer is *not* commented out"
   ]
  },
  {
   "cell_type": "code",
   "execution_count": null,
   "metadata": {},
   "outputs": [],
   "source": [
    "q_2_2_2 = 'The code provided appears to have different indexing because ...'"
   ]
  },
  {
   "cell_type": "markdown",
   "metadata": {},
   "source": [
    "#### 2.2.3 The seconds associated to both the header and the epoch times is stored both as part of a datetime object as well as as separate number, can you guess why?\n",
    "\n",
    "    q_2_2_3 = 'I think the seconds are handled the way they are because ...\n",
    "\n",
    "Make sure that the answer is *not* commented out"
   ]
  },
  {
   "cell_type": "code",
   "execution_count": null,
   "metadata": {},
   "outputs": [],
   "source": [
    "q_2_2_3 = 'I think the seconds are handled the way they are because ...'"
   ]
  },
  {
   "cell_type": "markdown",
   "metadata": {},
   "source": [
    "#### 2.2.4 BONUS: In the latest version of the SP3 format the uncertainties can be specified in three ways, do you understand why?\n",
    "\n",
    "Although we have mentioned propagation of uncertainty in class we have not yet discussed it in detail. Understanding this at this point in time is not expected. If you do not know the answer do not spend a lot of time on answering it.\n",
    "\n",
    "    q_2_2_4= 'There are three representations of uncertainty because ...\n",
    "\n",
    "Make sure that the answer is *not* commented out"
   ]
  },
  {
   "cell_type": "code",
   "execution_count": null,
   "metadata": {},
   "outputs": [],
   "source": [
    "q_2_2_4= 'There are three representations of uncertainty because ...'"
   ]
  },
  {
   "cell_type": "markdown",
   "metadata": {},
   "source": [
    "#### 2.2.4 BONUS: In the latest version of the SP3 format the uncertainties can be specified in three ways, do you understand why?\n",
    "\n",
    "Although we have mentioned propagation of uncertainty in class we have not yet discussed it in detail. Understanding this at this point in time is not expected. If you do not know the answer do not spend a lot of time on answering it.\n",
    "\n",
    "    q_2_2_4= 'There are three representations of uncertainty because ...\n",
    "\n",
    "Make sure that the answer is *not* commented out"
   ]
  },
  {
   "cell_type": "code",
   "execution_count": null,
   "metadata": {
    "scrolled": true
   },
   "outputs": [],
   "source": [
    "sp3_a1 = SP3('/home/jupyter-semmed/ESCI_OE_771_871/mydata/a1.sp3', 'GPS')\n",
    "sp3_a2 = SP3('/home/jupyter-semmed/ESCI_OE_771_871/mydata/a2.sp3', 'GPS')\n",
    "sp3_c1 = SP3('/home/jupyter-semmed/ESCI_OE_771_871/mydata/c1.sp3')\n",
    "sp3_c2 = SP3('/home/jupyter-semmed/ESCI_OE_771_871/mydata/c2.sp3', 'GPS')\n",
    "\n"
   ]
  },
  {
   "cell_type": "code",
   "execution_count": null,
   "metadata": {
    "scrolled": false
   },
   "outputs": [],
   "source": [
    "# VGNSS 2.0\n",
    "\n",
    "# print(datetime(2005,8,29,15,0,0)-datetime(1970,1,1,0,0,0))\n",
    "\n",
    "data_path = os.path.join(vgnss_path, \"mydata\")\n",
    "data_path = os.path.abspath(data_path)\n",
    "gnss = GNSS( data_path)\n",
    "gnss.add_next_epoch_ephemeris(2005,8,29,15,0,0,342380)\n",
    "# if gnss.gnss_weeks[-1] < 979:\n",
    "#     error( 'epoch predates GLONASS, please pick a later date')\n",
    "gnss.add_next_epoch_ephemeris(2019,8,29,15,0,1,120002)\n",
    "\n",
    "gnss.gps_sp3\n"
   ]
  },
  {
   "cell_type": "code",
   "execution_count": null,
   "metadata": {},
   "outputs": [],
   "source": [
    "2**0/1000\n",
    "\n",
    "gnss.gln_sp3[0].sat_accuracies"
   ]
  }
 ],
 "metadata": {
  "kernelspec": {
   "display_name": "Python 3",
   "language": "python",
   "name": "python3"
  },
  "language_info": {
   "codemirror_mode": {
    "name": "ipython",
    "version": 3
   },
   "file_extension": ".py",
   "mimetype": "text/x-python",
   "name": "python",
   "nbconvert_exporter": "python",
   "pygments_lexer": "ipython3",
   "version": "3.6.7"
  }
 },
 "nbformat": 4,
 "nbformat_minor": 2
}
