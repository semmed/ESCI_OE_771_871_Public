{
 "cells": [
  {
   "cell_type": "markdown",
   "metadata": {},
   "source": [
    " <style>\n",
    ".footer {\n",
    "  position: fixed;\n",
    "  left: 0;\n",
    "  bottom: 0;\n",
    "  width: 100%;\n",
    "  background-color: white;\n",
    "  color: grey;\n",
    "  text-align: left;\n",
    "  font-size: 8px;\n",
    "}\n",
    "</style>\n",
    "<style>\n",
    ".header {\n",
    "  position: fixed;\n",
    "  left: 0;\n",
    "  top: 0;\n",
    "  width: 100%;\n",
    "  background-color: white;\n",
    "  color: grey;\n",
    "  text-align: center;\n",
    "  font-size: 8px;\n",
    "}\n",
    "</style>\n",
    "<div class=\"header\">\n",
    "    <img align=\"left\" width=\"4%\" style=\"padding-right:10px;\" src=\"../Images/Ccom.png\">\n",
    "    <p>Being a VGNSS Receiver</p>\n",
    "</div>\n",
    "\n",
    "<img align=\"left\" width=\"30%\" style=\"padding-right:10px;\" src=\"../Images/Ccom.png\">\n",
    "\n",
    "___\n",
    "# Computational Problem Set - Being a VGNSS Receiver\n",
    "\n",
    "## Semme J. Dijkstra & David Wells 2019\n",
    "\n",
    "<div class=\"footer\">\n",
    "    <br><p>VGNSS Step 0: Semme J. Dijkstra December 20, 2019</p>\n",
    "</div> \n"
   ]
  },
  {
   "cell_type": "markdown",
   "metadata": {},
   "source": [
    "<div class=\"header\">\n",
    "    <img align=\"left\" width=\"4%\" style=\"padding-right:10px;\" src=\"../Images/Ccom.png\">\n",
    "    <p>Being a VGNSS Receiver</p>\n",
    "</div>\n",
    "\n",
    "___\n",
    "## Administrative\n",
    "\n",
    "Instructor: Semme J. Dijkstra\n",
    "\n",
    "*For issues or suggestions related to this notebook, write to: semmed@ccom.unh.edu*\n",
    "\n",
    "\n",
    "<div class=\"footer\">\n",
    "    <br><p>VGNSS Step 0: Semme J. Dijkstra December 20, 2019</p>\n",
    "</div> "
   ]
  },
  {
   "cell_type": "markdown",
   "metadata": {},
   "source": [
    "<div class=\"header\">\n",
    "    <img align=\"left\" width=\"4%\" style=\"padding-right:10px;\" src=\"../Images/Ccom.png\">\n",
    "    <p>0 Introduction to Geodesy and Positioning for Ocean Mapping</p>\n",
    "</div>\n",
    "\n",
    "___\n",
    "## Description\n",
    "\n",
    "### Student Learning Outcomes\n",
    "\n",
    "- The first learning objective is to deepen your understanding of geodesy, coordinate systems, coordinate transformations, and GNSS positioning.  This objective is achieved by working through what a GNSS receiver actually does (in the simplest possible case).  The basic premise of this practical exercise is that each student becomes a “virtual GNSS receiver” performing (over many weeks of hard work) all the functions, which any GNSS receiver does (in milliseconds).\n",
    "- The second learning objective is to provide a relevant vehicle to be used to develop your programming skills.  This practical exercise requires that you program all the mathematical steps required to compute a single-epoch, single-receiver GNSS fix position.  \n",
    "- The third learning objective is to develop your debugging skills.  Learning a programming language can be frustrating.  Small errors in coding can be hard to detect.  This practical exercise provides three facilities to assist the beginning programmer to develop skill in detecting and correcting such small coding errors.  The first facility is a worked example that can be used to check your results against known answers.  The second facility is expert advice  from fellow students through Piazza, and  the third by email assistance from the instructor (more about this below).\n",
    "\n",
    "<div class=\"footer\">\n",
    "    <br><p>VGNSS Step 0: Semme J. Dijkstra December 20, 2019</p>\n",
    "</div> "
   ]
  },
  {
   "cell_type": "markdown",
   "metadata": {},
   "source": [
    "<div class=\"header\">\n",
    "    <img align=\"left\" width=\"4%\" style=\"padding-right:10px;\" src=\"../Images/Ccom.png\">\n",
    "    <p>Being a VGNSS Receiver</p>\n",
    "</div>\n",
    "\n",
    "___\n",
    "## Learning Methods\n",
    "\n",
    "This practical exercise is to be done individually by each student.\n",
    "\n",
    "That does not mean you cannot work together, developing the algorithms and code required to do the work.  In fact, I encourage such a group approach.  However, each student will prepare their own code, compute their own results, and should satisfy himself or herself that they *comprehend* what they have and done and are able to individually *apply* what they have done for each step in the lab.\n",
    "\n",
    "You are provided with notebooks – in these templates precise instructions are included for the deliverable variables. You will submit your completed code based on the notebook. I will then evaluate your results by running my own code and evaluating the differences with your variables. This means that some of the variables are considered the deliverables and that they need to be formatted exactly as indicated in the notebook.\n",
    "\n",
    "Even though you are provided notebook it is still important to remember to set up your computations so they can easily be repeated by simply changing input values. You should NOT create dummy variables that contain the same information as the deliverables – this is confusing and leads to messy code that is very hard to evaluate and debug.\n",
    "\n",
    "<div class=\"footer\">\n",
    "    <br><p>VGNSS Step 0: Semme J. Dijkstra December 20, 2019</p>\n",
    "</div> "
   ]
  },
  {
   "cell_type": "markdown",
   "metadata": {},
   "source": [
    "<div class=\"header\">\n",
    "    <img align=\"left\" width=\"4%\" style=\"padding-right:10px;\" src=\"../Images/Ccom.png\">\n",
    "    <p>Being a VGNSS Receiver</p>\n",
    "</div>\n",
    "\n",
    "___\n",
    "## Expert Advice\n",
    "\n",
    "More about the expert advice facility:  as problems arise in getting (apparently) incorrect results you are welcome to describe these in an email to me.  The service standard I will attempt to achieve is to respond within 48 hours to all such emails.  Generally, this response will include a diagnosis of where the problem(s) might be. \n",
    "\n",
    "### EMAIL RULES\n",
    "\n",
    "Past experience shows that this expert advice can generate hundreds of emails through the semester.  To manage these, it is important to impose strict guidelines on the email message subject line, and the format for submitting numerical results.  \n",
    "1 - The email subject line must read EXACTLY  \n",
    "VGNSS steps <x to y> - <your last name>\n",
    "where <..> indicates a variable you fill in e.g, `VGNSS steps 1 to 3 - Dijkstra`\n",
    "\n",
    "If you do not use this format, I will not react to your mail.\n",
    "\n",
    "<div class=\"footer\">\n",
    "    <br><p>VGNSS Step 0: Semme J. Dijkstra December 20, 2019</p>\n",
    "</div> "
   ]
  },
  {
   "cell_type": "markdown",
   "metadata": {},
   "source": [
    "<div class=\"header\">\n",
    "    <img align=\"left\" width=\"4%\" style=\"padding-right:10px;\" src=\"../Images/Ccom.png\">\n",
    "    <p>Being a VGNSS Receiver</p>\n",
    "</div>\n",
    "\n",
    "___\n",
    "## SCHEDULE\n",
    "\n",
    "I have set milestones for completion of the steps – you will have until noon on the Wednesday before the next lab period to submit your results.\n",
    "\n",
    "Even if you are having no difficulty in working through the steps assigned, you MUST submit your results through github on time.\n",
    "\n",
    "You will be asked to resubmit your results for a step until the step is completed to satisfaction. I will send you an e-mail informing you that either I want changes made or, that you have completed the step. Even if you have not yet completed a previous step you are still asked to submit the current step on time.\n",
    "\n",
    "<div class=\"footer\">\n",
    "    <br><p>VGNSS Step 0: Semme J. Dijkstra December 20, 2019</p>\n",
    "</div> "
   ]
  },
  {
   "cell_type": "markdown",
   "metadata": {},
   "source": [
    "<div class=\"header\">\n",
    "    <img align=\"left\" width=\"4%\" style=\"padding-right:10px;\" src=\"../Images/Ccom.png\">\n",
    "    <p>Being a VGNSS Receiver</p>\n",
    "</div>\n",
    "\n",
    "___\n",
    "## DELIVERABLES\n",
    "\n",
    "For each step I have listed a series of deliverables.\n",
    "\n",
    "<div class=\"footer\">\n",
    "    <br><p>VGNSS Step 0: Semme J. Dijkstra December 20, 2019</p>\n",
    "</div> "
   ]
  },
  {
   "cell_type": "markdown",
   "metadata": {},
   "source": [
    "<div class=\"header\">\n",
    "    <img align=\"left\" width=\"4%\" style=\"padding-right:10px;\" src=\"../Images/Ccom.png\">\n",
    "    <p>Being a VGNSS Receiver</p>\n",
    "</div>\n",
    "\n",
    "___\n",
    "## EVALUATION CRITERIA\n",
    "\n",
    "Students will demonstrate proficiency through delivering satisfactorily completed Matlab m-files\n",
    "\n",
    "<div class=\"footer\">\n",
    "    <br><p>VGNSS Step 0: Semme J. Dijkstra December 20, 2019</p>\n",
    "</div> "
   ]
  },
  {
   "cell_type": "code",
   "execution_count": null,
   "metadata": {},
   "outputs": [],
   "source": []
  },
  {
   "cell_type": "code",
   "execution_count": null,
   "metadata": {},
   "outputs": [],
   "source": []
  }
 ],
 "metadata": {
  "kernelspec": {
   "display_name": "Python 3",
   "language": "python",
   "name": "python3"
  },
  "language_info": {
   "codemirror_mode": {
    "name": "ipython",
    "version": 3
   },
   "file_extension": ".py",
   "mimetype": "text/x-python",
   "name": "python",
   "nbconvert_exporter": "python",
   "pygments_lexer": "ipython3",
   "version": "3.6.7"
  }
 },
 "nbformat": 4,
 "nbformat_minor": 2
}
